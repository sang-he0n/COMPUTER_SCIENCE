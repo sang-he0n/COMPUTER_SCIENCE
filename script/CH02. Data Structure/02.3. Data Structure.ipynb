{
 "cells": [
  {
   "cell_type": "markdown",
   "id": "e7e208d4",
   "metadata": {},
   "source": [
    "# CH02.3. **Data Structure**"
   ]
  },
  {
   "cell_type": "markdown",
   "id": "73ea8399",
   "metadata": {},
   "source": [
    "<b></b>"
   ]
  }
 ],
 "metadata": {
  "kernelspec": {
   "display_name": "PYTCH",
   "language": "python",
   "name": "python3"
  },
  "language_info": {
   "codemirror_mode": {
    "name": "ipython",
    "version": 3
   },
   "file_extension": ".py",
   "mimetype": "text/x-python",
   "name": "python",
   "nbconvert_exporter": "python",
   "pygments_lexer": "ipython3",
   "version": "3.12.11"
  }
 },
 "nbformat": 4,
 "nbformat_minor": 5
}
