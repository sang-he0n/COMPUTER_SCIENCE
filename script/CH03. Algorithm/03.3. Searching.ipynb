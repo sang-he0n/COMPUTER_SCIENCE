{
 "cells": [
  {
   "cell_type": "markdown",
   "id": "e25eb85e",
   "metadata": {},
   "source": [
    "# CH03.3. **Searching**"
   ]
  },
  {
   "cell_type": "markdown",
   "id": "ea061a83",
   "metadata": {},
   "source": [
    "> ## **선형 탐색(Linear Search)**"
   ]
  },
  {
   "cell_type": "markdown",
   "id": "8a914251",
   "metadata": {},
   "source": [
    "#### **(1) 정의** : 배열의 처음부터 끝까지 순서대로 하나씩 원소를 비교하여 목표 값을 찾는 탐색 방법"
   ]
  },
  {
   "cell_type": "markdown",
   "id": "4c072596",
   "metadata": {},
   "source": [
    "#### **(5) 파이썬 구현** : "
   ]
  },
  {
   "cell_type": "code",
   "execution_count": null,
   "id": "122f4e8c",
   "metadata": {},
   "outputs": [],
   "source": [
    "def linear_search(arr:list, target:int) -> int :\n",
    "    output = -1\n",
    "    for i in range(len(arr)) :\n",
    "        if arr[i] == target :\n",
    "            output = i\n",
    "    return output"
   ]
  },
  {
   "cell_type": "markdown",
   "id": "be6dc713",
   "metadata": {},
   "source": [
    "<b></b>"
   ]
  },
  {
   "cell_type": "markdown",
   "id": "31b72763",
   "metadata": {},
   "source": [
    "> ## **이진 탐색(Binary Search)**"
   ]
  },
  {
   "cell_type": "markdown",
   "id": "36421c8d",
   "metadata": {},
   "source": [
    "#### **(1) 정의** : **정렬된 배열**에서 리스트의 중간값을 기준으로 크기를 비교하며 탐색 범위를 절반으로 줄이는 탐색 방법"
   ]
  },
  {
   "cell_type": "markdown",
   "id": "00bee4d5",
   "metadata": {},
   "source": [
    "#### **(5) 파이썬 구현** : "
   ]
  },
  {
   "cell_type": "code",
   "execution_count": null,
   "id": "03486862",
   "metadata": {},
   "outputs": [],
   "source": [
    "def binary_search(arr:list, target:int) -> int : \n",
    "    left_idx, right_idx = 0, len(arr) - 1 \n",
    "    output = -1\n",
    "    while left_idx <= right_idx : \n",
    "        mid_idx = (left_idx + right_idx) // 2 \n",
    "        if arr[mid_idx] == target : \n",
    "            output = mid_idx\n",
    "            break\n",
    "        elif arr[mid_idx] > target : \n",
    "            right_idx = mid_idx - 1\n",
    "        elif arr[mid_idx] < target : \n",
    "            left_idx = mid_idx + 1 \n",
    "    return output"
   ]
  },
  {
   "cell_type": "markdown",
   "id": "f25ca3ad",
   "metadata": {},
   "source": [
    "<b></b>"
   ]
  },
  {
   "cell_type": "markdown",
   "id": "a9b2a58e",
   "metadata": {},
   "source": [
    "> ## **높이 우선 탐색(Depth-First Search)**"
   ]
  },
  {
   "cell_type": "markdown",
   "id": "f3c6d3d5",
   "metadata": {},
   "source": [
    "#### **(1) 정의** : "
   ]
  },
  {
   "cell_type": "markdown",
   "id": "4f4bbb8b",
   "metadata": {},
   "source": [
    "#### **(5) 파이썬 구현** : "
   ]
  },
  {
   "cell_type": "markdown",
   "id": "e90bef44",
   "metadata": {},
   "source": [
    "<b></b>"
   ]
  },
  {
   "cell_type": "markdown",
   "id": "19fa022f",
   "metadata": {},
   "source": [
    "> ## **너비 우선 탐색(Breadth-First Search)**"
   ]
  },
  {
   "cell_type": "markdown",
   "id": "9797b551",
   "metadata": {},
   "source": [
    "#### **(1) 정의** : "
   ]
  },
  {
   "cell_type": "markdown",
   "id": "4c184273",
   "metadata": {},
   "source": [
    "#### **(5) 파이썬 구현** : "
   ]
  }
 ],
 "metadata": {
  "language_info": {
   "name": "python"
  }
 },
 "nbformat": 4,
 "nbformat_minor": 5
}
