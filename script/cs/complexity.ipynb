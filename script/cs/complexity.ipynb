{
 "cells": [
  {
   "cell_type": "markdown",
   "id": "fee26288",
   "metadata": {},
   "source": [
    "# CHnn.n. **Complexity**"
   ]
  },
  {
   "cell_type": "markdown",
   "id": "e3edaed9",
   "metadata": {},
   "source": [
    "> ## **Compexity**"
   ]
  },
  {
   "cell_type": "markdown",
   "id": "2c035b0c",
   "metadata": {},
   "source": [
    "#### (1) **정의** : 알고리즘의 성능을 나타내는 척도"
   ]
  },
  {
   "cell_type": "markdown",
   "id": "231754a9",
   "metadata": {},
   "source": [
    "#### (2) **종류** :\n",
    "#### $ \\hspace{0.15cm} $ ① 시간 복잡도 : 특정한 크기의 입력에 대하여 알고리즘의 수행 시간\n",
    "#### $ \\hspace{0.15cm} $ ② 공간 복잡도 : 특정한 크기의 입력에 대하여 알고리즘의 메모리 사용량"
   ]
  },
  {
   "cell_type": "markdown",
   "id": "9d589195",
   "metadata": {},
   "source": [
    "<b></b>"
   ]
  },
  {
   "cell_type": "markdown",
   "id": "a0c3b782",
   "metadata": {},
   "source": [
    "> ## **Big-O Notation**"
   ]
  },
  {
   "cell_type": "markdown",
   "id": "d4317629",
   "metadata": {},
   "source": [
    "#### (1) **정의** : 복잡도에서 가장 빠르게 증가하는 항만을 고려하는 표기법\n",
    "#### $ \\Rightarrow{} a N^{3} + b N^{2} + c N + d = O(N^{3}) $"
   ]
  },
  {
   "cell_type": "markdown",
   "id": "bed35ac3",
   "metadata": {},
   "source": [
    "#### (2) **종류** :\n",
    "| 순위 | 표기 | 명칭 |\n",
    "|-|-|-|\n",
    "| 1 | $ O(1) $ | 상수 시간(Constant time) |\n",
    "| 2 | $ O(\\log{}N) $ | 로그 시간(Log time) |\n",
    "| 3 | $ O(N) $ | 선형 시간(Linear time) |\n",
    "| 4 | $ O(N\\log{}N) $ | 로그 선형 시간 |\n",
    "| 5 | $ O(N^{2}) $ | 이차 시간 |\n",
    "| 6 | $ O(N^{3}) $ | 삼차 시간 |\n",
    "| 7 | $ O(2^{N}) $ | 지수 시간 |"
   ]
  },
  {
   "cell_type": "markdown",
   "id": "3c42e1ed",
   "metadata": {},
   "source": [
    "#### (3) **예제** :\n",
    "#### $ \\hspace{0.15cm} $ ① $ N $개의 데이터의 합을 계산하는 프로그램 : $ O(N) $"
   ]
  },
  {
   "cell_type": "code",
   "execution_count": 27,
   "id": "00f2a785",
   "metadata": {},
   "outputs": [],
   "source": [
    "array = [3, 5, 1, 2, 4]\n",
    "summary = 0 \n",
    "for x in array : \n",
    "    summary += x\n",
    "# print(summary)"
   ]
  },
  {
   "cell_type": "markdown",
   "id": "abb85b39",
   "metadata": {},
   "source": [
    "#### $ \\hspace{0.15cm} $ ② $ 2 $ 중 반복문을 출력하는 프로그램 : $ O(N^{2}) $"
   ]
  },
  {
   "cell_type": "code",
   "execution_count": 28,
   "id": "5b8dbe61",
   "metadata": {},
   "outputs": [],
   "source": [
    "array = [3, 5, 1, 2, 4]\n",
    "for i in array :\n",
    "    for j in array :\n",
    "        temp = i * j \n",
    "        # print(temp)"
   ]
  },
  {
   "cell_type": "markdown",
   "id": "68a00fd6",
   "metadata": {},
   "source": [
    "##### **(`PLUS`)** 모든 $ 2 $ 중 반복문의 시간 복잡도가 $ O(N^{2}) $은 아니며, 내부적으로 다른 함수를 호출할 경우 그 함수의 시간 복잡도도 고려해야함"
   ]
  }
 ],
 "metadata": {
  "kernelspec": {
   "display_name": "Python 3",
   "language": "python",
   "name": "python3"
  },
  "language_info": {
   "codemirror_mode": {
    "name": "ipython",
    "version": 3
   },
   "file_extension": ".py",
   "mimetype": "text/x-python",
   "name": "python",
   "nbconvert_exporter": "python",
   "pygments_lexer": "ipython3",
   "version": "3.12.11"
  }
 },
 "nbformat": 4,
 "nbformat_minor": 5
}
