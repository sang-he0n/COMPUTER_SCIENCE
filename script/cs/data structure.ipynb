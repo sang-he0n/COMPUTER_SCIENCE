{
 "cells": [
  {
   "cell_type": "markdown",
   "id": "e7e208d4",
   "metadata": {},
   "source": [
    "# CHnn.n. **Data Structure**"
   ]
  },
  {
   "cell_type": "markdown",
   "id": "e95287be",
   "metadata": {},
   "source": [
    "> #  _"
   ]
  }
 ],
 "metadata": {
  "kernelspec": {
   "display_name": "Python 3",
   "language": "python",
   "name": "python3"
  },
  "language_info": {
   "codemirror_mode": {
    "name": "ipython",
    "version": 3
   },
   "file_extension": ".py",
   "mimetype": "text/x-python",
   "name": "python",
   "nbconvert_exporter": "python",
   "pygments_lexer": "ipython3",
   "version": "3.12.11"
  }
 },
 "nbformat": 4,
 "nbformat_minor": 5
}
