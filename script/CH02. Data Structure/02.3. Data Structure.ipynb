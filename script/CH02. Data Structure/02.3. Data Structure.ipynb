{
 "cells": [
  {
   "cell_type": "markdown",
   "id": "e7e208d4",
   "metadata": {},
   "source": [
    "# CH02.3. **Data Structure**"
   ]
  },
  {
   "cell_type": "markdown",
   "id": "e0294179",
   "metadata": {},
   "source": [
    "> ## **배열(Array)**"
   ]
  },
  {
   "cell_type": "markdown",
   "id": "3c58e58a",
   "metadata": {},
   "source": [
    "#### **(1) 정의** : 연속적인 메모리 공간에 데이터를 인덱스를 통해 저장하는 자료구조"
   ]
  },
  {
   "cell_type": "markdown",
   "id": "cf7f00df",
   "metadata": {},
   "source": [
    "#### **(2) 특징** :\n",
    "##### $ \\hspace{0.15cm} $ ⊕ 빠른 인덱스 접근 가능\n",
    "##### $ \\hspace{0.15cm} $ ⊕ 구조가 단순하여 직관적\n",
    "##### $ \\hspace{0.15cm} $ ⊕ 메모리 공간이 연속적이라 캐시 적중률이 높음\n",
    "##### $ \\hspace{0.15cm} $ ⊖ 중간에 삽입/삭제하면 느림 (시간 복잡도 $ O(n) $ 필요)\n",
    "##### $ \\hspace{0.15cm} $ ⊖ 메모리 공간을 미리 할당하기에 낭비 가능성 존재"
   ]
  },
  {
   "cell_type": "markdown",
   "id": "3678d626",
   "metadata": {},
   "source": [
    "#### **(3) 파이썬 구현** : 예외처리 생략"
   ]
  },
  {
   "cell_type": "code",
   "execution_count": null,
   "id": "1b548af1",
   "metadata": {},
   "outputs": [],
   "source": [
    "class Array() : \n",
    "    def __init__(self, data) : \n",
    "        pass"
   ]
  },
  {
   "cell_type": "markdown",
   "id": "73ea8399",
   "metadata": {},
   "source": [
    "<b></b>"
   ]
  },
  {
   "cell_type": "markdown",
   "id": "ca005624",
   "metadata": {},
   "source": [
    "> ## **Linked List**"
   ]
  },
  {
   "cell_type": "markdown",
   "id": "b8d36365",
   "metadata": {},
   "source": [
    "#### **(1) 정의** : 각 노드가 데이터와 다음 노드를 가리키는 포인터를 갖는 비연속적 자료구조"
   ]
  },
  {
   "cell_type": "markdown",
   "id": "8bcde02a",
   "metadata": {},
   "source": [
    "#### **(2) 특징** :\n",
    "##### $ \\hspace{0.15cm} $ ⊕ 중간에 삽입/삭제하더라도 빠름\n",
    "##### $ \\hspace{0.15cm} $ ⊕ 필요한 만큼 노드를 생성하기에 메모리 낭비 적음\n",
    "##### $ \\hspace{0.15cm} $ ⊕ 크기 조정이 유연함\n",
    "##### $ \\hspace{0.15cm} $ ⊖ 순차 탐색만 가능하기에 탐색이 느림\n",
    "##### $ \\hspace{0.15cm} $ ⊖ 포인터 공간이 필요하기에 추가 메모리 필요"
   ]
  },
  {
   "cell_type": "markdown",
   "id": "54a72d5a",
   "metadata": {},
   "source": [
    "#### **(3) 파이썬 구현** : 예외처리 생략"
   ]
  },
  {
   "cell_type": "code",
   "execution_count": null,
   "id": "d524236a",
   "metadata": {},
   "outputs": [],
   "source": [
    "class LinkedList() : \n",
    "    def __init__(self, data) : \n",
    "        pass"
   ]
  },
  {
   "cell_type": "markdown",
   "id": "09cd91a7",
   "metadata": {},
   "source": [
    "<b></b>"
   ]
  },
  {
   "cell_type": "markdown",
   "id": "50c86e24",
   "metadata": {},
   "source": [
    "> ## **Tree**"
   ]
  },
  {
   "cell_type": "markdown",
   "id": "981cdfaf",
   "metadata": {},
   "source": [
    "#### **(1) 정의** : 하나의 루트 노드에서 시작, 자식 노드로 분기하는 비선형 자료구조"
   ]
  },
  {
   "cell_type": "markdown",
   "id": "75b7d3a4",
   "metadata": {},
   "source": [
    "#### **(2) 특징** :\n",
    "##### $ \\hspace{0.15cm} $ ⊕ 정렬된 트리라면 탐색/삽입/삭제 연산 효율적\n",
    "##### $ \\hspace{0.15cm} $ ⊕ 재귀적으로 처리 용이\n",
    "##### $ \\hspace{0.15cm} $ ⊕ 계층적 데이터에 적합\n",
    "##### $ \\hspace{0.15cm} $ ⊖ 불균형 트리 문제: 한쪽으로 치우치면 탐색/삽입/삭제 모두 $ O(n) $\n",
    "##### $ \\hspace{0.15cm} $ ⊖ 포인터 공간이 필요하기에 추가 메모리 필요"
   ]
  },
  {
   "cell_type": "markdown",
   "id": "10d8f429",
   "metadata": {},
   "source": [
    "#### **(3) 파이썬 구현** : 예외처리 생략"
   ]
  },
  {
   "cell_type": "code",
   "execution_count": null,
   "id": "2b90516f",
   "metadata": {},
   "outputs": [],
   "source": [
    "class Tree() :\n",
    "    def __init__(self, data) :\n",
    "        pass"
   ]
  },
  {
   "cell_type": "markdown",
   "id": "9330397a",
   "metadata": {},
   "source": [
    "<b></b>"
   ]
  },
  {
   "cell_type": "markdown",
   "id": "785b0563",
   "metadata": {},
   "source": [
    "> ## **Hash Table**"
   ]
  },
  {
   "cell_type": "markdown",
   "id": "f025f796",
   "metadata": {},
   "source": [
    "#### **(1) 정의** : 키-값(key-value) 형태로 데이터를 저장하며, 해시 함수로 키를 인덱스로 변환하는 자료 구조"
   ]
  },
  {
   "cell_type": "markdown",
   "id": "1cc39e52",
   "metadata": {},
   "source": [
    "#### **(2) 특징** :\n",
    "##### $ \\hspace{0.15cm} $ ⊕ 탐색/삽입 빠름\n",
    "##### $ \\hspace{0.15cm} $ ⊕ \n",
    "##### $ \\hspace{0.15cm} $ ⊕ \n",
    "##### $ \\hspace{0.15cm} $ ⊖ \n",
    "##### $ \\hspace{0.15cm} $ ⊖ 정렬이 불가함"
   ]
  },
  {
   "cell_type": "markdown",
   "id": "1261ee59",
   "metadata": {},
   "source": [
    "#### **(3) 파이썬 구현** : 예외처리 생략"
   ]
  },
  {
   "cell_type": "code",
   "execution_count": null,
   "id": "64ca3233",
   "metadata": {},
   "outputs": [],
   "source": [
    "pass"
   ]
  },
  {
   "cell_type": "markdown",
   "id": "2cd37848",
   "metadata": {},
   "source": [
    "<b></b>"
   ]
  },
  {
   "cell_type": "markdown",
   "id": "c7e9bf96",
   "metadata": {},
   "source": [
    "> ## **Heap**"
   ]
  },
  {
   "cell_type": "markdown",
   "id": "1a8a3552",
   "metadata": {},
   "source": [
    "#### **(1) 정의** : 완전 이진 트리 기반의 자료구조로, 부모 노드가 자식보다 항상 크거나 작음"
   ]
  },
  {
   "cell_type": "markdown",
   "id": "f1fcfe73",
   "metadata": {},
   "source": [
    "#### **(2) 특징** :\n",
    "##### $ \\hspace{0.15cm} $ ⊕ 우선순위 처리에 강함\n",
    "##### $ \\hspace{0.15cm} $ ⊕ 최댓값/최솟값 빠르게 찾음\n",
    "##### $ \\hspace{0.15cm} $ ⊕ 정렬에 활용 가능\n",
    "##### $ \\hspace{0.15cm} $ ⊖ 중간값, 전체 탐색은 느림"
   ]
  },
  {
   "cell_type": "markdown",
   "id": "0200f6ab",
   "metadata": {},
   "source": [
    "#### **(3) 파이썬 구현** : 예외처리 생략"
   ]
  },
  {
   "cell_type": "code",
   "execution_count": null,
   "id": "40cfb041",
   "metadata": {},
   "outputs": [],
   "source": [
    "pass"
   ]
  },
  {
   "cell_type": "markdown",
   "id": "45c361a3",
   "metadata": {},
   "source": [
    "<b></b>"
   ]
  },
  {
   "cell_type": "markdown",
   "id": "ab2b6435",
   "metadata": {},
   "source": [
    "> ## **Graph**"
   ]
  },
  {
   "cell_type": "markdown",
   "id": "403d639a",
   "metadata": {},
   "source": [
    "#### **(1) 정의** : 정점(Vertex)과 간선(Edge)으로 구성된 구조"
   ]
  },
  {
   "cell_type": "markdown",
   "id": "b20cebd2",
   "metadata": {},
   "source": [
    "#### **(2) 특징** :\n",
    "##### $ \\hspace{0.15cm} $ ⊕ 복잡한 관계 모델링 가능\n",
    "##### $ \\hspace{0.15cm} $ ⊕ 경로 탐색에 적합\n",
    "##### $ \\hspace{0.15cm} $ ⊖ 인접 행렬은 O(n²)의 공간 복잡도를 가져 메모리 사용량이 큼\n",
    "##### $ \\hspace{0.15cm} $ ⊖ DFS, BFS, Dijkstra 등 추가 탐색 알고리즘 필요"
   ]
  },
  {
   "cell_type": "markdown",
   "id": "7ae09e0b",
   "metadata": {},
   "source": [
    "#### **(3) 파이썬 구현** : 예외처리 생략"
   ]
  },
  {
   "cell_type": "code",
   "execution_count": null,
   "id": "2f4dc19e",
   "metadata": {},
   "outputs": [],
   "source": [
    "pass"
   ]
  }
 ],
 "metadata": {
  "kernelspec": {
   "display_name": "PYTCH",
   "language": "python",
   "name": "python3"
  },
  "language_info": {
   "codemirror_mode": {
    "name": "ipython",
    "version": 3
   },
   "file_extension": ".py",
   "mimetype": "text/x-python",
   "name": "python",
   "nbconvert_exporter": "python",
   "pygments_lexer": "ipython3",
   "version": "3.12.11"
  }
 },
 "nbformat": 4,
 "nbformat_minor": 5
}
