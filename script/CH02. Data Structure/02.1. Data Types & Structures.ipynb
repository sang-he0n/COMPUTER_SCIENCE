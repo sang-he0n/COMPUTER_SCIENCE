{
 "cells": [
  {
   "cell_type": "markdown",
   "id": "e7e208d4",
   "metadata": {},
   "source": [
    "# CH02.1. **Data Types & Structures**"
   ]
  },
  {
   "cell_type": "markdown",
   "id": "c0f8570b",
   "metadata": {},
   "source": [
    "> ## **Primitive Data Type**"
   ]
  },
  {
   "cell_type": "markdown",
   "id": "9c6afa67",
   "metadata": {},
   "source": [
    "#### **(1) 정의** : 더 이상 분해할 수 없는 가장 기본적인 데이터 형태"
   ]
  },
  {
   "cell_type": "markdown",
   "id": "7753deba",
   "metadata": {},
   "source": [
    "#### **(2) 종류** :\n",
    "##### $ \\hspace{0.15cm} $ ① Integer\n",
    "##### $ \\hspace{0.15cm} $ ② Float\n",
    "##### $ \\hspace{0.15cm} $ ③ Boolean\n",
    "##### $ \\hspace{0.15cm} $ ④ Character"
   ]
  },
  {
   "cell_type": "markdown",
   "id": "692c0131",
   "metadata": {},
   "source": [
    "<b></b>"
   ]
  },
  {
   "cell_type": "markdown",
   "id": "0a0c4b0d",
   "metadata": {},
   "source": [
    "> ## **Abstract Data Structures**"
   ]
  },
  {
   "cell_type": "markdown",
   "id": "fed7b4d1",
   "metadata": {},
   "source": [
    "#### **(1) 정의** : 데이터를 저장하고 조작하는 방식을 수학적이고 논리적인 관점에서 추상화한 개념\n",
    "#### $ = $ 구현 방법이 아니라 동작 방식(behavior)을 정의함"
   ]
  },
  {
   "cell_type": "markdown",
   "id": "557af3fe",
   "metadata": {},
   "source": [
    "#### **(2) 종류** :\n",
    "##### $ \\hspace{0.15cm} $ ① Stack\n",
    "##### $ \\hspace{0.15cm} $ ② Queue\n",
    "##### $ \\hspace{0.15cm} $ ③ Priority Queue\n",
    "##### $ \\hspace{0.15cm} $ ④ Deque\n",
    "##### $ \\hspace{0.15cm} $ ⑤ Set\n",
    "##### $ \\hspace{0.15cm} $ ⑥ Map"
   ]
  },
  {
   "cell_type": "markdown",
   "id": "9a0ea6ce",
   "metadata": {},
   "source": [
    "<b></b>"
   ]
  },
  {
   "cell_type": "markdown",
   "id": "e95287be",
   "metadata": {},
   "source": [
    "> ## **Data Structure**"
   ]
  },
  {
   "cell_type": "markdown",
   "id": "adc1c87b",
   "metadata": {},
   "source": [
    "#### **(1) 정의** : 컴퓨터 메모리(혹은 외부 저장소)에 데이터를 효율적으로 배치하고 조작하는 방식"
   ]
  },
  {
   "cell_type": "markdown",
   "id": "81a34a8f",
   "metadata": {},
   "source": [
    "#### **(2) 종류** :\n",
    "##### $ \\hspace{0.15cm} $ ① Array\n",
    "##### $ \\hspace{0.15cm} $ ② Linked List\n",
    "##### $ \\hspace{0.15cm} $ ③ Tree\n",
    "##### $ \\hspace{0.15cm} $ ④ Hash Table\n",
    "##### $ \\hspace{0.15cm} $ ⑤ Heap\n",
    "##### $ \\hspace{0.15cm} $ ⑥ Graph"
   ]
  }
 ],
 "metadata": {
  "kernelspec": {
   "display_name": "PYTCH",
   "language": "python",
   "name": "python3"
  },
  "language_info": {
   "codemirror_mode": {
    "name": "ipython",
    "version": 3
   },
   "file_extension": ".py",
   "mimetype": "text/x-python",
   "name": "python",
   "nbconvert_exporter": "python",
   "pygments_lexer": "ipython3",
   "version": "3.12.11"
  }
 },
 "nbformat": 4,
 "nbformat_minor": 5
}
