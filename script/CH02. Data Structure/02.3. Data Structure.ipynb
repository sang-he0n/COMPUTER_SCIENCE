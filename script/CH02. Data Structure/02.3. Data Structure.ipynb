{
 "cells": [
  {
   "cell_type": "markdown",
   "id": "e7e208d4",
   "metadata": {},
   "source": [
    "# CH02.3. **Data Structure**"
   ]
  },
  {
   "cell_type": "markdown",
   "id": "e0294179",
   "metadata": {},
   "source": [
    "> ## **Array**"
   ]
  },
  {
   "cell_type": "markdown",
   "id": "73ea8399",
   "metadata": {},
   "source": [
    "<b></b>"
   ]
  },
  {
   "cell_type": "markdown",
   "id": "ca005624",
   "metadata": {},
   "source": [
    "> ## **Linked List**"
   ]
  },
  {
   "cell_type": "markdown",
   "id": "09cd91a7",
   "metadata": {},
   "source": [
    "<b></b>"
   ]
  },
  {
   "cell_type": "markdown",
   "id": "50c86e24",
   "metadata": {},
   "source": [
    "> ## **Tree**"
   ]
  },
  {
   "cell_type": "markdown",
   "id": "9330397a",
   "metadata": {},
   "source": [
    "<b></b>"
   ]
  },
  {
   "cell_type": "markdown",
   "id": "785b0563",
   "metadata": {},
   "source": [
    "> ## **Hash Table**"
   ]
  },
  {
   "cell_type": "markdown",
   "id": "2cd37848",
   "metadata": {},
   "source": [
    "<b></b>"
   ]
  },
  {
   "cell_type": "markdown",
   "id": "c7e9bf96",
   "metadata": {},
   "source": [
    "> ## **Heap**"
   ]
  },
  {
   "cell_type": "markdown",
   "id": "45c361a3",
   "metadata": {},
   "source": [
    "<b></b>"
   ]
  },
  {
   "cell_type": "markdown",
   "id": "ab2b6435",
   "metadata": {},
   "source": [
    "> ## **Graph**"
   ]
  }
 ],
 "metadata": {
  "kernelspec": {
   "display_name": "PYTCH",
   "language": "python",
   "name": "python3"
  },
  "language_info": {
   "codemirror_mode": {
    "name": "ipython",
    "version": 3
   },
   "file_extension": ".py",
   "mimetype": "text/x-python",
   "name": "python",
   "nbconvert_exporter": "python",
   "pygments_lexer": "ipython3",
   "version": "3.12.11"
  }
 },
 "nbformat": 4,
 "nbformat_minor": 5
}
