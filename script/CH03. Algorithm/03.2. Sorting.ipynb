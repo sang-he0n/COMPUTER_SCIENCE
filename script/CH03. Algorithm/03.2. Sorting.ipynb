{
 "cells": [
  {
   "cell_type": "markdown",
   "id": "292e944f",
   "metadata": {},
   "source": [
    "# CH03.2. **Sorting**"
   ]
  },
  {
   "cell_type": "markdown",
   "id": "341ef212",
   "metadata": {},
   "source": [
    "> ## **버블 정렬(Bubble Sort)**"
   ]
  },
  {
   "cell_type": "markdown",
   "id": "4da08427",
   "metadata": {},
   "source": [
    "#### **(1) 정의** : 두 원소를 비교하여 (오름차순일 경우) 큰 값을 뒤로 보내는 정렬 방식"
   ]
  },
  {
   "cell_type": "markdown",
   "id": "9c4a95cc",
   "metadata": {},
   "source": [
    "#### **(2) 동작 방식** :\n",
    "##### $ \\hspace{0.15cm} $ ① 배열의 첫 번째 원소부터 시작하여 인접한 두 원소를 비교\n",
    "##### $ \\hspace{0.15cm} $ ② 앞의 값이 더 크면 서로 위치 교환(swap)\n",
    "##### $ \\hspace{0.15cm} $ ③ 이를 배열 끝까지 반복 (가장 큰 값이 맨 뒤로 감)\n",
    "##### $ \\hspace{0.15cm} $ ④ 다시 처음부터 반복, 비교 범위를 하나 줄임\n",
    "##### $ \\hspace{0.15cm} $ ⑤ 정렬될 때까지 반복"
   ]
  },
  {
   "cell_type": "markdown",
   "id": "5abb74d3",
   "metadata": {},
   "source": [
    "#### **(3) 시간 복잡도** :\n",
    "|구분|시간복잡도|\n",
    "|-|-|\n",
    "|최선|$O(N)$|\n",
    "|평균|$O(N^{2})$|\n",
    "|최악|$O(N^{2})$|"
   ]
  },
  {
   "cell_type": "markdown",
   "id": "887f5a80",
   "metadata": {},
   "source": [
    "#### **(4) 특징** :\n",
    "##### $ \\hspace{0.15cm} $ ⊕ 구현이 매우 단순함\n",
    "##### $ \\hspace{0.15cm} $ ⊖ 느림, 효율이 낮음"
   ]
  },
  {
   "cell_type": "markdown",
   "id": "108fadf1",
   "metadata": {},
   "source": [
    "#### **(5) 파이썬 구현** : "
   ]
  },
  {
   "cell_type": "code",
   "execution_count": 1,
   "id": "ad82996e",
   "metadata": {},
   "outputs": [],
   "source": [
    "def bubble_sort(arr:list) -> list :\n",
    "    arr_len = len(arr)\n",
    "    for i in range(arr_len) :\n",
    "        swapped = False\n",
    "        for j in range(0, arr_len-i-1) : \n",
    "            if arr[j] > arr[j + 1] :\n",
    "                arr[j], arr[j + 1] = arr[j + 1], arr[j]\n",
    "                swapped = True\n",
    "        if swapped != True : \n",
    "            break\n",
    "    return arr"
   ]
  },
  {
   "cell_type": "markdown",
   "id": "547a2d55",
   "metadata": {},
   "source": [
    "<b></b>"
   ]
  },
  {
   "cell_type": "markdown",
   "id": "6cce9674",
   "metadata": {},
   "source": [
    "> ## **선택 정렬(Selection Sort)**"
   ]
  },
  {
   "cell_type": "markdown",
   "id": "70055d36",
   "metadata": {},
   "source": [
    "#### **(1) 정의** : 매번 가장 작은(큰) 원소를 선택하여, 앞에서부터 하나씩 자리를 정하는 정렬 방식"
   ]
  },
  {
   "cell_type": "markdown",
   "id": "c5455c60",
   "metadata": {},
   "source": [
    "#### **(2) 동작 방식** :\n",
    "##### $ \\hspace{0.15cm} $ ① 첫 번째 원소부터 시작하여 나머지에서 가장 작은 값을 찾음\n",
    "##### $ \\hspace{0.15cm} $ ② 그 값을 첫 번째 원소와 교환\n",
    "##### $ \\hspace{0.15cm} $ ③ 다음 인덱스에 대해 반복 (앞쪽은 이미 정렬된 구간)"
   ]
  },
  {
   "cell_type": "markdown",
   "id": "b84c8a3a",
   "metadata": {},
   "source": [
    "#### **(3) 시간 복잡도** :\n",
    "|구분|시간복잡도|\n",
    "|-|-|\n",
    "|최선|$O(N^{2})$|\n",
    "|평균|$O(N^{2})$|\n",
    "|최악|$O(N^{2})$|"
   ]
  },
  {
   "cell_type": "markdown",
   "id": "89e12d92",
   "metadata": {},
   "source": [
    "#### **(4) 특징** :\n",
    "##### $ \\hspace{0.15cm} $ ⊕ 교환 횟수는 적은 편 (최대 $ n $번)\n",
    "##### $ \\hspace{0.15cm} $ ⊖ 느림, 효율이 낮음"
   ]
  },
  {
   "cell_type": "markdown",
   "id": "26ccf568",
   "metadata": {},
   "source": [
    "#### **(5) 파이썬 구현** : "
   ]
  },
  {
   "cell_type": "code",
   "execution_count": 2,
   "id": "6f8f660e",
   "metadata": {},
   "outputs": [],
   "source": [
    "def selection_sort(arr: list) -> list :\n",
    "    arr_len = len(arr)\n",
    "    for i in range(arr_len) :\n",
    "        min_idx = i\n",
    "        for j in range(i + 1, arr_len):\n",
    "            if arr[j] < arr[min_idx] :\n",
    "                min_idx = j\n",
    "        arr[i], arr[min_idx] = arr[min_idx], arr[i]\n",
    "    return arr"
   ]
  },
  {
   "cell_type": "markdown",
   "id": "d50591a6",
   "metadata": {},
   "source": [
    "<b></b>"
   ]
  },
  {
   "cell_type": "markdown",
   "id": "0e64f94b",
   "metadata": {},
   "source": [
    "> ## **삽입 정렬(Insertion Sort)**"
   ]
  },
  {
   "cell_type": "markdown",
   "id": "da4d1a24",
   "metadata": {},
   "source": [
    "#### **(1) 정의** : 이미 정렬된 구간에 새로운 원소를 끼워 넣는 정렬 방식"
   ]
  },
  {
   "cell_type": "markdown",
   "id": "a3812c48",
   "metadata": {},
   "source": [
    "#### **(2) 동작 방식** :\n",
    "##### $ \\hspace{0.15cm} $ ① 두 번째 원소부터 시작하여, 그 앞에 있는 원소들과 비교\n",
    "##### $ \\hspace{0.15cm} $ ② 비교하여 적절한 위치까지 밀어내고 삽입\n",
    "##### $ \\hspace{0.15cm} $ ③ 정렬된 구간을 한 칸씩 늘려가며 반복"
   ]
  },
  {
   "cell_type": "markdown",
   "id": "c52deae3",
   "metadata": {},
   "source": [
    "#### **(3) 시간 복잡도** :\n",
    "|구분|시간복잡도|\n",
    "|-|-|\n",
    "|최선|$O(N)$|\n",
    "|평균|$O(N^{2})$|\n",
    "|최악|$O(N^{2})$|"
   ]
  },
  {
   "cell_type": "markdown",
   "id": "4fc89371",
   "metadata": {},
   "source": [
    "#### **(4) 특징** :\n",
    "##### $ \\hspace{0.15cm} $ ⊕ 거의 정렬된 배열에 매우 빠름\n",
    "##### $ \\hspace{0.15cm} $ ⊖ 큰 배열에는 비효율적"
   ]
  },
  {
   "cell_type": "markdown",
   "id": "83c86fb2",
   "metadata": {},
   "source": [
    "#### **(5) 파이썬 구현** : "
   ]
  },
  {
   "cell_type": "code",
   "execution_count": 3,
   "id": "2ae66f4e",
   "metadata": {},
   "outputs": [],
   "source": [
    "def insertion_sort(arr:list) -> list :\n",
    "    for i in range(1, len(arr)) :\n",
    "        key = arr[i]\n",
    "        j = i - 1\n",
    "        while j >= 0 and arr[j] > key :  \n",
    "            arr[j + 1] = arr[j]  \n",
    "            j -= 1\n",
    "        arr[j + 1] = key\n",
    "    return arr"
   ]
  },
  {
   "cell_type": "markdown",
   "id": "6670888a",
   "metadata": {},
   "source": [
    "<b></b>"
   ]
  },
  {
   "cell_type": "markdown",
   "id": "5f7324e6",
   "metadata": {},
   "source": [
    "> ## **퀵 정렬(Quick Sort)**"
   ]
  },
  {
   "cell_type": "markdown",
   "id": "f54afda3",
   "metadata": {},
   "source": [
    "#### **(1) 정의** : 피벗(pivot;배열을 두 부분으로 나누는 기준 값)을 기준으로 작은 값과 큰 값으로 분할하는 정렬 방식"
   ]
  },
  {
   "cell_type": "markdown",
   "id": "68454031",
   "metadata": {},
   "source": [
    "#### **(2) 동작 방식** :\n",
    "##### $ \\hspace{0.15cm} $ ① 배열에서 피벗 하나 선택\n",
    "##### $ \\hspace{0.15cm} $ ② 피벗보다 작은 값은 왼쪽, 큰 값은 오른쪽에 배치\n",
    "##### $ \\hspace{0.15cm} $ ③ 양쪽 배열에 대해 재귀적으로 퀵 정렬 수행(재귀적 처리)\n",
    "##### $ \\hspace{0.15cm} $ ④ 모든 부분이 정렬되면 병합 없이 끝"
   ]
  },
  {
   "cell_type": "markdown",
   "id": "dfabd978",
   "metadata": {},
   "source": [
    "#### **(3) 시간 복잡도** :\n",
    "|구분|시간복잡도|\n",
    "|-|-|\n",
    "|최선|$ O(N \\log{}(N)) $|\n",
    "|평균|$ O(N \\log{}(N)) $|\n",
    "|최악|$ O(N^{2}) $|"
   ]
  },
  {
   "cell_type": "markdown",
   "id": "3ca2255d",
   "metadata": {},
   "source": [
    "#### **(4) 특징** :\n",
    "##### $ \\hspace{0.15cm} $ ⊕ 매우 빠르고 실무에서 자주 사용됨\n",
    "##### $ \\hspace{0.15cm} $ ⊖ 정렬 안정성 없음\n",
    "##### $ \\hspace{0.15cm} $ ⊖ 피벗을 정의하는 규칙이 없음"
   ]
  },
  {
   "cell_type": "markdown",
   "id": "e4c27698",
   "metadata": {},
   "source": [
    "#### **(5) 파이썬 구현** : "
   ]
  },
  {
   "cell_type": "code",
   "execution_count": 4,
   "id": "bb5ff2f9",
   "metadata": {},
   "outputs": [],
   "source": [
    "import random\n",
    "\n",
    "def quick_sort(arr:list) : # random\n",
    "    output = None\n",
    "    if len(arr) <= 1 :\n",
    "        output = arr\n",
    "    else : \n",
    "        pivot_idx = random.randint(0, len(arr) - 1)\n",
    "        pivot = arr[pivot_idx]\n",
    "        rest = arr[:pivot_idx] + arr[pivot_idx+1:]\n",
    "        left = []\n",
    "        right = []\n",
    "        for x in rest : \n",
    "            if x <= pivot :\n",
    "                left.append(x)\n",
    "            else : \n",
    "                right.append(x)\n",
    "        output = quick_sort(left) + [pivot] + quick_sort(right)\n",
    "    return output"
   ]
  },
  {
   "cell_type": "markdown",
   "id": "817d639d",
   "metadata": {},
   "source": [
    "<b></b>"
   ]
  },
  {
   "cell_type": "markdown",
   "id": "52771145",
   "metadata": {},
   "source": [
    "> ## **병합 정렬(Merge Sort)**"
   ]
  },
  {
   "cell_type": "markdown",
   "id": "c9b78e0b",
   "metadata": {},
   "source": [
    "#### **(1) 정의** : 배열을 반으로 계속 나눈 뒤, 다시 정렬하면서 합치는 정렬 방식"
   ]
  },
  {
   "cell_type": "markdown",
   "id": "5fb10353",
   "metadata": {},
   "source": [
    "#### **(2) 동작 방식** :\n",
    "##### $ \\hspace{0.15cm} $ ① 배열을 반으로 나눔\n",
    "##### $ \\hspace{0.15cm} $ ② 각 부분 배열을 재귀적으로 병합 정렬\n",
    "##### $ \\hspace{0.15cm} $ ③ 두 개의 정렬된 배열을 병합"
   ]
  },
  {
   "cell_type": "markdown",
   "id": "bf267bd6",
   "metadata": {},
   "source": [
    "#### **(3) 시간 복잡도** :\n",
    "|구분|시간복잡도|\n",
    "|-|-|\n",
    "|최선|$ O(N \\log{}(N)) $|\n",
    "|평균|$ O(N \\log{}(N)) $|\n",
    "|최악|$ O(N \\log{}(N)) $|"
   ]
  },
  {
   "cell_type": "markdown",
   "id": "f37c7b3a",
   "metadata": {},
   "source": [
    "#### **(4) 특징** :\n",
    "##### $ \\hspace{0.15cm} $ ⊕ 시간 복잡도 안정적\n",
    "##### $ \\hspace{0.15cm} $ ⊕ 정렬 안정성 있음\n",
    "##### $ \\hspace{0.15cm} $ ⊖ 추가 메모리 공간 필요"
   ]
  },
  {
   "cell_type": "markdown",
   "id": "7de3c7e6",
   "metadata": {},
   "source": [
    "#### **(5) 파이썬 구현** : "
   ]
  },
  {
   "cell_type": "code",
   "execution_count": 5,
   "id": "91d23c91",
   "metadata": {},
   "outputs": [],
   "source": [
    "def merge(left:list, right:list) -> list:\n",
    "    result = []\n",
    "    i = j = 0\n",
    "    while i < len(left) and j < len(right):\n",
    "        if left[i] <= right[j] :\n",
    "            result.append(left[i])\n",
    "            i += 1\n",
    "        else:\n",
    "            result.append(right[j])\n",
    "            j += 1\n",
    "    result.extend(left[i:])\n",
    "    result.extend(right[j:])\n",
    "    return result\n",
    "\n",
    "def merge_sort(arr: list) -> list:\n",
    "    if len(arr) <= 1 :\n",
    "        return arr\n",
    "    mid = len(arr) // 2\n",
    "    left = merge_sort(arr[:mid])\n",
    "    right = merge_sort(arr[mid:])\n",
    "    return merge(left, right)"
   ]
  }
 ],
 "metadata": {
  "kernelspec": {
   "display_name": "PYTCH",
   "language": "python",
   "name": "python3"
  },
  "language_info": {
   "codemirror_mode": {
    "name": "ipython",
    "version": 3
   },
   "file_extension": ".py",
   "mimetype": "text/x-python",
   "name": "python",
   "nbconvert_exporter": "python",
   "pygments_lexer": "ipython3",
   "version": "3.12.11"
  }
 },
 "nbformat": 4,
 "nbformat_minor": 5
}
