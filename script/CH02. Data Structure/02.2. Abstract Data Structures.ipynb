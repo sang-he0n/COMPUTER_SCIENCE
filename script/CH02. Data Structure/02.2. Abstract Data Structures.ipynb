{
 "cells": [
  {
   "cell_type": "markdown",
   "id": "e7e208d4",
   "metadata": {},
   "source": [
    "# CH02.2. **Abstract Data Structure**"
   ]
  },
  {
   "cell_type": "markdown",
   "id": "473bdb35",
   "metadata": {},
   "source": [
    "> ## **Stack**"
   ]
  },
  {
   "cell_type": "markdown",
   "id": "d6dd42fe",
   "metadata": {},
   "source": [
    "#### **(1) 정의** : LIFO(Last In, First Out) 방식의 자료 구조, 가장 나중에 들어간 데이터가 가장 먼저 나옴"
   ]
  },
  {
   "cell_type": "markdown",
   "id": "7176866d",
   "metadata": {},
   "source": [
    "#### **(2) 주요 연산** : \n",
    "##### $ \\hspace{0.15cm} $ ① `push(x)` : 요소 `x`를 스택 맨 위에 추가 \n",
    "##### $ \\hspace{0.15cm} $ ② `pop()` : 스택의 맨 위 요소를 제거하고 그 제거한 요소를 반환\n",
    "##### $ \\hspace{0.15cm} $ ③ `top()` : 맨 위 요소를 제거하지 않고 반환\n",
    "##### $ \\hspace{0.15cm} $ ④ `isEmpty()` : 비어 있는지 확인"
   ]
  },
  {
   "cell_type": "markdown",
   "id": "042fd84b",
   "metadata": {},
   "source": [
    "#### **(3) 특징** :\n",
    "##### $ \\hspace{0.15cm} $ ⊕ 함수 호출 처리(call stack), 되돌리기(undo) 기능 등에 사용됨\n",
    "##### $ \\hspace{0.15cm} $ ⊕ 구현이 직관적이며 간단함\n",
    "##### $ \\hspace{0.15cm} $ ⊖ 중간 데이터 접근이 불가능 (맨 위 데이터만 접근 가능)"
   ]
  },
  {
   "cell_type": "markdown",
   "id": "fe8d2e63",
   "metadata": {},
   "source": [
    "#### **(4) 적절한 구현 방식(자료 구조)** :\n",
    "##### $ \\hspace{0.15cm} $ ① Array\n",
    "##### $ \\hspace{0.15cm} $ ② Linked-List"
   ]
  },
  {
   "cell_type": "markdown",
   "id": "6609ced5",
   "metadata": {},
   "source": [
    "#### **(5) 파이썬 구현** : 예외처리 생략"
   ]
  },
  {
   "cell_type": "code",
   "execution_count": 1,
   "id": "0adca216",
   "metadata": {},
   "outputs": [],
   "source": [
    "class Stack() :\n",
    "    def __init__(self) : \n",
    "        self.data = list()\n",
    "    def __repr__(self) :\n",
    "        return str(self.data)\n",
    "    def push(self, val:int) -> None :\n",
    "        self.data.append(val)\n",
    "    def pop(self) -> int :\n",
    "        return self.data.pop(-1)\n",
    "    def top(self) -> int : \n",
    "        return self.data[-1] \n",
    "    def is_empty(self) -> bool : \n",
    "        if len(self.data) == 0 : \n",
    "            return True\n",
    "        else : \n",
    "            return False "
   ]
  },
  {
   "cell_type": "markdown",
   "id": "ba8638fb",
   "metadata": {},
   "source": [
    "<b></b>"
   ]
  },
  {
   "cell_type": "markdown",
   "id": "b46db7d9",
   "metadata": {},
   "source": [
    "> ## **Queue**"
   ]
  },
  {
   "cell_type": "markdown",
   "id": "9b5bbd39",
   "metadata": {},
   "source": [
    "#### **(1) 정의** : FIFO(First In, First Out) 방식의 자료 구조, 가장 먼저 들어간 데이터가 가장 먼저 나옴"
   ]
  },
  {
   "cell_type": "markdown",
   "id": "e6d2ab0f",
   "metadata": {},
   "source": [
    "#### **(2) 주요 연산** : \n",
    "##### $ \\hspace{0.15cm} $ ① `enqueue(x)` : 요소 `x`를 맨 뒤에 추가 \n",
    "##### $ \\hspace{0.15cm} $ ② `dequeue()` : 맨 앞(front) 요소를 제거하고 그 요소를 반환  \n",
    "##### $ \\hspace{0.15cm} $ ③ `front()` : 맨 앞 요소를 제거하지 않고 반환\n",
    "##### $ \\hspace{0.15cm} $ ④ `isEmpty()` : 비어 있는지 확인"
   ]
  },
  {
   "cell_type": "markdown",
   "id": "5c0a2c6a",
   "metadata": {},
   "source": [
    "#### **(3) 특징** :\n",
    "##### $ \\hspace{0.15cm} $ ⊕ 데이터 흐름을 순차적으로 처리하는 시스템에 적합\n",
    "##### $ \\hspace{0.15cm} $ ⊖ 일반 배열로 구현할 경우, dequeue 시 앞 요소 삭제에 비효율 발생"
   ]
  },
  {
   "cell_type": "markdown",
   "id": "7af6d33b",
   "metadata": {},
   "source": [
    "#### **(4) 적절한 자료 구조** :\n",
    "##### $ \\hspace{0.15cm} $ ① Linked-List"
   ]
  },
  {
   "cell_type": "markdown",
   "id": "8d72b03c",
   "metadata": {},
   "source": [
    "#### **(5) 파이썬 구현** : 예외처리 생략"
   ]
  },
  {
   "cell_type": "code",
   "execution_count": 2,
   "id": "6c606b77",
   "metadata": {},
   "outputs": [],
   "source": [
    "class Queue() :\n",
    "    def __init__(self) : \n",
    "        self.data = list()\n",
    "    def __repr__(self) :\n",
    "        return str(self.data)\n",
    "    def enqueue(self, val:int) -> None :\n",
    "        self.data.append(val)\n",
    "    def dequeue(self) -> int :\n",
    "        return self.data.pop(0)\n",
    "    def front(self) -> int : \n",
    "        return self.data[0] \n",
    "    def is_empty(self) -> bool : \n",
    "        if len(self.data) == 0 : \n",
    "            return True\n",
    "        else : \n",
    "            return False "
   ]
  },
  {
   "cell_type": "markdown",
   "id": "8e19c1aa",
   "metadata": {},
   "source": [
    "<b></b>"
   ]
  },
  {
   "cell_type": "markdown",
   "id": "664f1768",
   "metadata": {},
   "source": [
    "> ## **Priority Queue**"
   ]
  },
  {
   "cell_type": "markdown",
   "id": "07e3f580",
   "metadata": {},
   "source": [
    "#### **(1) 정의** : 우선순위(priority)가 높은 요소가 먼저 나오는 큐"
   ]
  },
  {
   "cell_type": "markdown",
   "id": "227503f6",
   "metadata": {},
   "source": [
    "#### **(2) 주요 연산** : \n",
    "##### $ \\hspace{0.15cm} $ ① `insert(x, priority)` :  \n",
    "##### $ \\hspace{0.15cm} $ ② `extractMax()` / `extractMin()` : 가장 높은(낮은) 우선순위의 요소를 제거하고 반환  \n",
    "##### $ \\hspace{0.15cm} $ ③ `peek()` : 우선순위가 가장 높은 요소를 제거하지 않고 반환"
   ]
  },
  {
   "cell_type": "markdown",
   "id": "2fb8acbb",
   "metadata": {},
   "source": [
    "#### **(3) 특징** :\n",
    "##### $ \\hspace{0.15cm} $ ⊕ 효율적인 우선순위 처리 가능 $ \\rightarrow{} O(\\log{} n) $\n",
    "##### $ \\hspace{0.15cm} $ ⊖ 중간 요소 탐색 비효율적"
   ]
  },
  {
   "cell_type": "markdown",
   "id": "b1cd47a2",
   "metadata": {},
   "source": [
    "#### **(4) 적절한 자료 구조** :\n",
    "##### $ \\hspace{0.15cm} $ ① Heap"
   ]
  },
  {
   "cell_type": "markdown",
   "id": "b65c4e73",
   "metadata": {},
   "source": [
    "#### **(5) 파이썬 구현** : 예외처리 생략"
   ]
  },
  {
   "cell_type": "code",
   "execution_count": null,
   "id": "ee7b65e5",
   "metadata": {},
   "outputs": [],
   "source": [
    "import heapq\n",
    "\n",
    "class PriorityQueue :\n",
    "    pass"
   ]
  },
  {
   "cell_type": "markdown",
   "id": "ca85989b",
   "metadata": {},
   "source": [
    "<b></b>"
   ]
  },
  {
   "cell_type": "markdown",
   "id": "d7379e6a",
   "metadata": {},
   "source": [
    "> ## **Deque (Double-Ended Queue)**"
   ]
  },
  {
   "cell_type": "markdown",
   "id": "02183b43",
   "metadata": {},
   "source": [
    "#### **(1) 정의** : 양쪽(앞, 뒤)에서 모두 삽입/삭제가 가능한 큐"
   ]
  },
  {
   "cell_type": "markdown",
   "id": "619f3a91",
   "metadata": {},
   "source": [
    "#### **(2) 주요 연산** : \n",
    "##### $ \\hspace{0.15cm} $ ① `push_front(x)` / `push_back(x)` : 앞 또는 뒤에 요소 추가\n",
    "##### $ \\hspace{0.15cm} $ ②  `pop_front()` / `pop_back()` :\n",
    "##### $ \\hspace{0.15cm} $ ③  `front()` / `back()` : \n",
    "##### $ \\hspace{0.15cm} $ ④ `isEmpty()` : 비어 있는지 확인"
   ]
  },
  {
   "cell_type": "markdown",
   "id": "7026ce70",
   "metadata": {},
   "source": [
    "#### **(3) 특징** :\n",
    "##### $ \\hspace{0.15cm} $ ⊕ 양방향 입출력 가능 \n",
    "##### $ \\hspace{0.15cm} $ ⊖ 일반 배열로 구현 시 비효율 발생"
   ]
  },
  {
   "cell_type": "markdown",
   "id": "6c8a3eae",
   "metadata": {},
   "source": [
    "#### **(4) 적절한 자료 구조** :\n",
    "##### $ \\hspace{0.15cm} $ ① Linked-List"
   ]
  },
  {
   "cell_type": "markdown",
   "id": "a7e5ffed",
   "metadata": {},
   "source": [
    "#### **(5) 파이썬 구현** : 예외처리 생략"
   ]
  },
  {
   "cell_type": "code",
   "execution_count": 4,
   "id": "32e39355",
   "metadata": {},
   "outputs": [],
   "source": [
    "from collections import deque\n",
    "\n",
    "class Deque:\n",
    "    def __init__(self) :\n",
    "        self.data = deque()\n",
    "    def __repr__(self) -> str :\n",
    "        return str(self.data)\n",
    "    def push_front(self, val) :\n",
    "        self.data.appendleft(val)\n",
    "    def push_back(self, val) :\n",
    "        self.data.append(val)\n",
    "    def pop_front(self) :\n",
    "        return self.data.popleft()\n",
    "    def pop_back(self) :\n",
    "        return self.data.pop()\n",
    "    def front(self) :\n",
    "        return self.data[0]\n",
    "    def back(self) :\n",
    "        return self.data[-1]\n",
    "    def is_empty(self) :\n",
    "        if len(self.data) == 0 :\n",
    "            return True \n",
    "        else : \n",
    "            return False"
   ]
  },
  {
   "cell_type": "markdown",
   "id": "09534ea3",
   "metadata": {},
   "source": [
    "<b></b>"
   ]
  },
  {
   "cell_type": "markdown",
   "id": "1c76961c",
   "metadata": {},
   "source": [
    "> ## **Set**"
   ]
  },
  {
   "cell_type": "markdown",
   "id": "caba1e98",
   "metadata": {},
   "source": [
    "#### **(1) 정의** : 중복되지 않는 요소들의 집합(collection)"
   ]
  },
  {
   "cell_type": "markdown",
   "id": "84e42f9d",
   "metadata": {},
   "source": [
    "#### **(2) 주요 연산** : \n",
    "##### $ \\hspace{0.15cm} $ ① `add(x)` : 요소 ` x `를 추가\n",
    "##### $ \\hspace{0.15cm} $ ② `remove(x)` : 요소 ` x `를 제거\n",
    "##### $ \\hspace{0.15cm} $ ③ `contains(x)` : 요소 ` x `가 포함됐는지 반환\n",
    "##### $ \\hspace{0.15cm} $ ④ `union(set2)` : 합집합 반환\n",
    "##### $ \\hspace{0.15cm} $ ⑤ `intersection(set2)` : 교집합 반환\n",
    "##### $ \\hspace{0.15cm} $ ⑥ `difference(set2)` : 차집합 반환"
   ]
  },
  {
   "cell_type": "markdown",
   "id": "f2926422",
   "metadata": {},
   "source": [
    "#### **(3) 특징** :\n",
    "##### $ \\hspace{0.15cm} $ ⊕ 중복 제거 자동화\n",
    "##### $ \\hspace{0.15cm} $ ⊕ `contains` 연산 빠름 $ \\rightarrow{} O(1) $\n",
    "##### $ \\hspace{0.15cm} $ ⊖ 순서 유지 불가"
   ]
  },
  {
   "cell_type": "markdown",
   "id": "702cfed7",
   "metadata": {},
   "source": [
    "#### **(4) 적절한 자료 구조** :\n",
    "##### $ \\hspace{0.15cm} $ ① Hash Table\n",
    "##### $ \\hspace{0.15cm} $ ② Tree"
   ]
  },
  {
   "cell_type": "markdown",
   "id": "07faef94",
   "metadata": {},
   "source": [
    "#### **(5) 파이썬 구현** : 예외처리 생략"
   ]
  },
  {
   "cell_type": "code",
   "execution_count": 5,
   "id": "f07328d4",
   "metadata": {},
   "outputs": [],
   "source": [
    "class Set() : \n",
    "    def __init__(self) :\n",
    "        self.data = set()\n",
    "    def __repr__(self) :\n",
    "        return str(self.data)\n",
    "    def add(self, val) : \n",
    "        self.data.add(val)\n",
    "    def remove(self, val) :\n",
    "        self.data.remove(val) \n",
    "    def contains(self, val) :\n",
    "        if val in self.data : \n",
    "            return True \n",
    "        else : \n",
    "            return False\n",
    "    def union(self, othre_set) : \n",
    "        return self.data.union(othre_set)\n",
    "    def intersection(self, othre_set) : \n",
    "        return self.data.intersection(othre_set)\n",
    "    def difference(self, othre_set) : \n",
    "        return self.data.difference(othre_set)"
   ]
  },
  {
   "cell_type": "markdown",
   "id": "d7fec0ad",
   "metadata": {},
   "source": [
    "<b></b>"
   ]
  },
  {
   "cell_type": "markdown",
   "id": "35ed11bf",
   "metadata": {},
   "source": [
    "> ## **Map**"
   ]
  },
  {
   "cell_type": "markdown",
   "id": "a52c4e69",
   "metadata": {},
   "source": [
    "#### **(1) 정의** : key-value 쌍으로 데이터를 저장하는 구조"
   ]
  },
  {
   "cell_type": "markdown",
   "id": "8c5057ec",
   "metadata": {},
   "source": [
    "#### **(2) 주요 연산** : \n",
    "##### $ \\hspace{0.15cm} $ ① `put(k, v)` : key `k`에 대해 value `v` 저장  \n",
    "##### $ \\hspace{0.15cm} $ ② `get(k)` : key `k`에 해당하는 value 반환  \n",
    "##### $ \\hspace{0.15cm} $ ③ `remove(k)` : key `k`와 연결된 값 제거  \n",
    "##### $ \\hspace{0.15cm} $ ④ `containsKey(k)` : 해당 key가 존재하는지 확인"
   ]
  },
  {
   "cell_type": "markdown",
   "id": "a4dc2306",
   "metadata": {},
   "source": [
    "#### **(3) 특징** :\n",
    "##### $ \\hspace{0.15cm} $ ⊕ 빠른 탐색, 삽입, 삭제\n",
    "##### $ \\hspace{0.15cm} $ ⊖ 키 중복 불가\n",
    "##### $ \\hspace{0.15cm} $ ⊖ 기본적으로 순서 없음"
   ]
  },
  {
   "cell_type": "markdown",
   "id": "d10ea446",
   "metadata": {},
   "source": [
    "#### **(4) 적절한 자료 구조** :\n",
    "##### $ \\hspace{0.15cm} $ ① Hash Table\n",
    "##### $ \\hspace{0.15cm} $ ② Tree"
   ]
  },
  {
   "cell_type": "markdown",
   "id": "ccf94442",
   "metadata": {},
   "source": [
    "#### **(5) 파이썬 구현** : 예외처리 생략"
   ]
  },
  {
   "cell_type": "code",
   "execution_count": 6,
   "id": "2a75ede7",
   "metadata": {},
   "outputs": [],
   "source": [
    "class Map:\n",
    "    def __init__(self):\n",
    "        self.data = dict() \n",
    "    def put(self, key, value) -> None :\n",
    "        self.data[key] = value\n",
    "    def get(self, key):\n",
    "        return self.data[key]\n",
    "    def remove(self, key) -> None:\n",
    "        del self.data[key]\n",
    "    def contains_key(self, key) -> bool :\n",
    "        if key in self.data.keys() : \n",
    "            return True \n",
    "        else : \n",
    "            return False\n",
    "    def is_empty(self) -> bool : \n",
    "        if len(self.data) == 0 : \n",
    "            return True\n",
    "        else : \n",
    "            return False "
   ]
  },
  {
   "cell_type": "markdown",
   "id": "73ea8399",
   "metadata": {},
   "source": [
    "<b></b>"
   ]
  }
 ],
 "metadata": {
  "kernelspec": {
   "display_name": "PYTCH",
   "language": "python",
   "name": "python3"
  },
  "language_info": {
   "codemirror_mode": {
    "name": "ipython",
    "version": 3
   },
   "file_extension": ".py",
   "mimetype": "text/x-python",
   "name": "python",
   "nbconvert_exporter": "python",
   "pygments_lexer": "ipython3",
   "version": "3.12.11"
  }
 },
 "nbformat": 4,
 "nbformat_minor": 5
}
