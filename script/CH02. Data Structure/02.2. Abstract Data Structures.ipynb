{
 "cells": [
  {
   "cell_type": "markdown",
   "id": "e7e208d4",
   "metadata": {},
   "source": [
    "# CH02.2. **Abstract Data Structure**"
   ]
  },
  {
   "cell_type": "markdown",
   "id": "473bdb35",
   "metadata": {},
   "source": [
    "> ## **스택(Stack)**"
   ]
  },
  {
   "cell_type": "markdown",
   "id": "d6dd42fe",
   "metadata": {},
   "source": [
    "#### **(1) 정의** : LIFO(Last In, First Out) 방식의 자료 구조, 가장 나중에 들어간 데이터가 가장 먼저 나옴"
   ]
  },
  {
   "cell_type": "markdown",
   "id": "7176866d",
   "metadata": {},
   "source": [
    "#### **(2) 주요 연산** : \n",
    "|구분|함수명|정의|시간복잡도(평균)|시간복잡도(최악)|\n",
    "|-|-|-|-|-|\n",
    "|Search|❌||||\n",
    "|Access|`top()`|맨 위(top) 요소 조회|$ O(1) $|$ O(1) $|\n",
    "|Insertion|`push(x)`|요소 `x`를 맨 위에 추가|$ O(1) $|$ O(1) $|\n",
    "|Deletion|`pop()`|맨 위 요소를 제거하고 그 요소를 반환(return)|$ O(1) $|$ O(1) $|"
   ]
  },
  {
   "cell_type": "markdown",
   "id": "042fd84b",
   "metadata": {},
   "source": [
    "#### **(3) 특징** :\n",
    "##### $ \\hspace{0.15cm} $ ⊕ 구현이 직관적이며 간단함\n",
    "##### $ \\hspace{0.15cm} $ ⊕ 재귀 처리에 최적화\n",
    "##### $ \\hspace{0.15cm} $ ⊖ 임의 접근(중간 데이터 접근)이 불가능 (맨 위 데이터만 접근 가능)"
   ]
  },
  {
   "cell_type": "markdown",
   "id": "fe8d2e63",
   "metadata": {},
   "source": [
    "#### **(4) 적절한 구현 방식(자료 구조)** :\n",
    "##### $ \\hspace{0.15cm} $ ① Array\n",
    "##### $ \\hspace{0.15cm} $ ② Linked-List"
   ]
  },
  {
   "cell_type": "markdown",
   "id": "6609ced5",
   "metadata": {},
   "source": [
    "#### **(5) 파이썬 구현** : 예외처리 생략"
   ]
  },
  {
   "cell_type": "code",
   "execution_count": null,
   "id": "0adca216",
   "metadata": {},
   "outputs": [],
   "source": [
    "class Stack() :\n",
    "    def __init__(self) : \n",
    "        self.data = list()\n",
    "    def __repr__(self) :\n",
    "        return str(self.data)\n",
    "    def push(self, val:int) -> None :\n",
    "        self.data.append(val)\n",
    "    def pop(self) -> int :\n",
    "        return self.data.pop(-1)\n",
    "    def top(self) -> int : \n",
    "        return self.data[-1] "
   ]
  },
  {
   "cell_type": "markdown",
   "id": "ba8638fb",
   "metadata": {},
   "source": [
    "<b></b>"
   ]
  },
  {
   "cell_type": "markdown",
   "id": "b46db7d9",
   "metadata": {},
   "source": [
    "> ## **큐(Queue)**"
   ]
  },
  {
   "cell_type": "markdown",
   "id": "9b5bbd39",
   "metadata": {},
   "source": [
    "#### **(1) 정의** : FIFO(First In, First Out) 방식의 자료 구조, 가장 먼저 들어간 데이터가 가장 먼저 나옴"
   ]
  },
  {
   "cell_type": "markdown",
   "id": "e6d2ab0f",
   "metadata": {},
   "source": [
    "#### **(2) 주요 연산** : \n",
    "|구분|함수명|정의|시간복잡도(평균)|시간복잡도(최악)|\n",
    "|-|-|-|-|-|\n",
    "|Search|❌||||\n",
    "|Access|`front()`|맨 앞(front) 요소 조회|$ O(1) $|$ O(1) $|\n",
    "|Insertion|`enqueue(x)`|요소 `x`를 맨 뒤에 추가|$ O(1) $|$ O(1) $|\n",
    "|Deletion|`dequeue()`|맨 앞 요소를 제거하고 그 요소를 반환|$ O(1) $|$ O(1) $|"
   ]
  },
  {
   "cell_type": "markdown",
   "id": "5c0a2c6a",
   "metadata": {},
   "source": [
    "#### **(3) 특징** :\n",
    "##### $ \\hspace{0.15cm} $ ⊕ 순차적으로 처리하는 시스템에 적합\n",
    "##### $ \\hspace{0.15cm} $ ⊖ 중간 데이터 접근이 불가능 (맨 앞 데이터만 접근 가능)"
   ]
  },
  {
   "cell_type": "markdown",
   "id": "7af6d33b",
   "metadata": {},
   "source": [
    "#### **(4) 적절한 자료 구조** :\n",
    "##### $ \\hspace{0.15cm} $ ① Linked-List"
   ]
  },
  {
   "cell_type": "markdown",
   "id": "8d72b03c",
   "metadata": {},
   "source": [
    "#### **(5) 파이썬 구현** : 예외처리 생략"
   ]
  },
  {
   "cell_type": "code",
   "execution_count": 2,
   "id": "6c606b77",
   "metadata": {},
   "outputs": [],
   "source": [
    "class Queue() :\n",
    "    def __init__(self) : \n",
    "        self.data = list()\n",
    "    def __repr__(self) :\n",
    "        return str(self.data)\n",
    "    def enqueue(self, val:int) -> None :\n",
    "        self.data.append(val)\n",
    "    def dequeue(self) -> int :\n",
    "        return self.data.pop(0)\n",
    "    def front(self) -> int : \n",
    "        return self.data[0] \n",
    "    def is_empty(self) :\n",
    "        return len(self.data) == 0 "
   ]
  },
  {
   "cell_type": "markdown",
   "id": "8e19c1aa",
   "metadata": {},
   "source": [
    "<b></b>"
   ]
  },
  {
   "cell_type": "markdown",
   "id": "664f1768",
   "metadata": {},
   "source": [
    "> ## **우선순위 큐(Priority Queue)**"
   ]
  },
  {
   "cell_type": "markdown",
   "id": "07e3f580",
   "metadata": {},
   "source": [
    "#### **(1) 정의** : 우선순위(priority)가 높은 요소가 먼저 나오는 큐"
   ]
  },
  {
   "cell_type": "markdown",
   "id": "227503f6",
   "metadata": {},
   "source": [
    "#### **(2) 주요 연산** : \n",
    "|구분|함수명|정의|시간복잡도(평균)|시간복잡도(최악)|\n",
    "|-|-|-|-|-|\n",
    "|Search|❌||||\n",
    "|Access|`peek()`|우선순위가 가장 높은 요소 조회|$ O(1) $|$ O(1) $|\n",
    "|Insertion|`insert(p, v)`|요소 `v`를 우선순위 `p`에 따라 삽입|$ O(\\log{}(N)) $|$ O(\\log{}(N)) $|\n",
    "|Deletion|`remove()`|가장 높은 우선순위 요소 제거하고 그 요소 반환|$ O(\\log{}(N)) $|$ O(\\log{}(N)) $|"
   ]
  },
  {
   "cell_type": "markdown",
   "id": "2fb8acbb",
   "metadata": {},
   "source": [
    "#### **(3) 특징** :\n",
    "##### $ \\hspace{0.15cm} $ ⊕ 효율적인 우선순위 처리 가능\n",
    "##### $ \\hspace{0.15cm} $ ⊕ 다양한 정렬 기준 적용 가능\n",
    "##### $ \\hspace{0.15cm} $ ⊖ 구현 복잡도 높음\n",
    "##### $ \\hspace{0.15cm} $ ⊖ 데이터 입력 순서가 보존되지 않음 (같은 우선순위 경우 처리 순서 불확실)"
   ]
  },
  {
   "cell_type": "markdown",
   "id": "b1cd47a2",
   "metadata": {},
   "source": [
    "#### **(4) 적절한 자료 구조** :\n",
    "##### $ \\hspace{0.15cm} $ ① Heap"
   ]
  },
  {
   "cell_type": "markdown",
   "id": "b65c4e73",
   "metadata": {},
   "source": [
    "#### **(5) 파이썬 구현** : 예외처리 생략"
   ]
  },
  {
   "cell_type": "code",
   "execution_count": 3,
   "id": "ee7b65e5",
   "metadata": {},
   "outputs": [],
   "source": [
    "import heapq\n",
    "\n",
    "class PriorityQueue() :\n",
    "    def __init__(self) :\n",
    "        self.data = []\n",
    "    def __repr__(self) :\n",
    "        return str(self.data)\n",
    "    def push(self, val) :\n",
    "        heapq.heappush(self.data, val)\n",
    "    def pop(self) :\n",
    "        return heapq.heappop(self.data)\n",
    "    def peek(self) :\n",
    "        return self.data[0]"
   ]
  },
  {
   "cell_type": "markdown",
   "id": "ca85989b",
   "metadata": {},
   "source": [
    "<b></b>"
   ]
  },
  {
   "cell_type": "markdown",
   "id": "d7379e6a",
   "metadata": {},
   "source": [
    "> ## **덱(Deque;Double-Ended Queue)**"
   ]
  },
  {
   "cell_type": "markdown",
   "id": "02183b43",
   "metadata": {},
   "source": [
    "#### **(1) 정의** : 양쪽(앞, 뒤)에서 모두 삽입/삭제가 가능한 큐"
   ]
  },
  {
   "cell_type": "markdown",
   "id": "619f3a91",
   "metadata": {},
   "source": [
    "#### **(2) 주요 연산** : \n",
    "|구분|함수명|정의|시간복잡도(평균)|시간복잡도(최악)|\n",
    "|-|-|-|-|-|\n",
    "|Search|❌||||\n",
    "|Access|`front()` / `back()`|양쪽 끝 요소 조회|$ O(1) $|$ O(1) $|\n",
    "|Insertion|`push_front(x)` / `push_back(x)`|양쪽 끝에 요소 삽입|$ O(1) $|$ O(1) $|\n",
    "|Deletion|`pop_front()` / `pop_back()`|양쪽 끝 요소 제거하고 그 요소 반환|$ O(1) $|$ O(1) $|"
   ]
  },
  {
   "cell_type": "markdown",
   "id": "7026ce70",
   "metadata": {},
   "source": [
    "#### **(3) 특징** :\n",
    "##### $ \\hspace{0.15cm} $ ⊕ 양방향 입출력 가능 (큐, 스택 대체 가능)\n",
    "##### $ \\hspace{0.15cm} $ ⊖ 일반 배열로 구현 시 비효율 발생 \n",
    "##### $ \\hspace{0.15cm} $ ⊖ 구현이 복잡 (파이썬에서는 내장 라이브러리 `collections`를 통해 쉽게 구현 가능)"
   ]
  },
  {
   "cell_type": "markdown",
   "id": "6c8a3eae",
   "metadata": {},
   "source": [
    "#### **(4) 적절한 자료 구조** :\n",
    "##### $ \\hspace{0.15cm} $ ① Linked-List"
   ]
  },
  {
   "cell_type": "markdown",
   "id": "a7e5ffed",
   "metadata": {},
   "source": [
    "#### **(5) 파이썬 구현** : 예외처리 생략"
   ]
  },
  {
   "cell_type": "code",
   "execution_count": 4,
   "id": "32e39355",
   "metadata": {},
   "outputs": [],
   "source": [
    "from collections import deque\n",
    "\n",
    "class Deque() :\n",
    "    def __init__(self) :\n",
    "        self.data = deque()\n",
    "    def __repr__(self) -> str :\n",
    "        return str(self.data)\n",
    "    def push_front(self, val) :\n",
    "        self.data.appendleft(val)\n",
    "    def push_back(self, val) :\n",
    "        self.data.append(val)\n",
    "    def pop_front(self) :\n",
    "        return self.data.popleft()\n",
    "    def pop_back(self) :\n",
    "        return self.data.pop()\n",
    "    def front(self) :\n",
    "        return self.data[0]\n",
    "    def back(self) :\n",
    "        return self.data[-1]"
   ]
  },
  {
   "cell_type": "markdown",
   "id": "09534ea3",
   "metadata": {},
   "source": [
    "<b></b>"
   ]
  },
  {
   "cell_type": "markdown",
   "id": "1c76961c",
   "metadata": {},
   "source": [
    "> ## **셋(Set)**"
   ]
  },
  {
   "cell_type": "markdown",
   "id": "caba1e98",
   "metadata": {},
   "source": [
    "#### **(1) 정의** : 중복되지 않는 요소들의 집합(collection)"
   ]
  },
  {
   "cell_type": "markdown",
   "id": "84e42f9d",
   "metadata": {},
   "source": [
    "#### **(2) 주요 연산** : $ N = \\text{len}(A), \\;\\; M = \\text{len}(B) $\n",
    "|구분|함수명|정의|시간복잡도(평균)|시간복잡도(최악)|\n",
    "|-|-|-|-|-|\n",
    "|Search|`contains(x)` |요소 `x`가 존재하는지 확인|$ O(1) $|$ O(N) $| \n",
    "|Insertion|`add(x)`|요소 `x` 추가|$ O(1) $|$ O(N) $|\n",
    "|Deletion|`remove(x)`|요소 `x` 제거|$ O(1) $|$ O(N) $|\n",
    "|Set|`union(A, B)`|집합 $ A, B $에 대하여 합집합|$ O(1) $|$ O(N+M) $|\n",
    "|Set|`intersection(A, B)`|집합 $ A, B $에 대하여 교집합|$ O(1) $|$ O(\\min{}(N,M)) $|\n",
    "|Set|`difference(A, B)`|집합 $ A, B $에 대하여 차집합|$ O(1) $|$ O(N) $|"
   ]
  },
  {
   "cell_type": "markdown",
   "id": "3dc43956",
   "metadata": {},
   "source": [
    "#### **(`PLUS`)** 해시 충돌(서로 다른 요소 혹은 키가 같은 해시값을 가짐)이 많이 발생할 경우"
   ]
  },
  {
   "cell_type": "markdown",
   "id": "f2926422",
   "metadata": {},
   "source": [
    "#### **(3) 특징** :\n",
    "##### $ \\hspace{0.15cm} $ ⊕ 집합 연산 가능\n",
    "##### $ \\hspace{0.15cm} $ ⊕ 중복 자동 제거\n",
    "##### $ \\hspace{0.15cm} $ ⊖ 순서 정보 없음"
   ]
  },
  {
   "cell_type": "markdown",
   "id": "702cfed7",
   "metadata": {},
   "source": [
    "#### **(4) 적절한 자료 구조** :\n",
    "##### $ \\hspace{0.15cm} $ ① Hash Table\n",
    "##### $ \\hspace{0.15cm} $ ② Tree"
   ]
  },
  {
   "cell_type": "markdown",
   "id": "07faef94",
   "metadata": {},
   "source": [
    "#### **(5) 파이썬 구현** : 예외처리 생략"
   ]
  },
  {
   "cell_type": "code",
   "execution_count": 5,
   "id": "f07328d4",
   "metadata": {},
   "outputs": [],
   "source": [
    "class Set() : \n",
    "    def __init__(self) :\n",
    "        self.data = set()\n",
    "    def __repr__(self) :\n",
    "        return str(self.data)\n",
    "    def add(self, val) : \n",
    "        self.data.add(val)\n",
    "    def remove(self, val) :\n",
    "        self.data.remove(val) \n",
    "    def contains(self, val) :\n",
    "        return val in self.data\n",
    "    def union(self, other_set : 'Set') : \n",
    "        return self.data.union(other_set)\n",
    "    def intersection(self, other_set : 'Set') : \n",
    "        return self.data.intersection(other_set)\n",
    "    def difference(self, other_set : 'Set') : \n",
    "        return self.data.difference(other_set)"
   ]
  },
  {
   "cell_type": "markdown",
   "id": "d7fec0ad",
   "metadata": {},
   "source": [
    "<b></b>"
   ]
  },
  {
   "cell_type": "markdown",
   "id": "35ed11bf",
   "metadata": {},
   "source": [
    "> ## **맵(Map)**"
   ]
  },
  {
   "cell_type": "markdown",
   "id": "a52c4e69",
   "metadata": {},
   "source": [
    "#### **(1) 정의** : 키-값(key-value) 쌍으로 데이터를 저장하는 구조"
   ]
  },
  {
   "cell_type": "markdown",
   "id": "8c5057ec",
   "metadata": {},
   "source": [
    "#### **(2) 주요 연산** : \n",
    "|구분|함수명|정의|시간복잡도(평균)|시간복잡도(최악)|\n",
    "|-|-|-|-|-|\n",
    "|Search|`get(k)`|키 `k`에 대응되는 값 조회|$ O(1) $|$ O(N) $|\n",
    "|Insertion|`put(k, v)`|키 `k`와 값 `v` 추가|$ O(1) $|$ O(N) $|\n",
    "|Deletion|`remove(k)`|키 `k`에 대응되는 항목(키,값) 삭제|$ O(1) $|$ O(N) $|"
   ]
  },
  {
   "cell_type": "markdown",
   "id": "a4dc2306",
   "metadata": {},
   "source": [
    "#### **(3) 특징** :\n",
    "##### $ \\hspace{0.15cm} $ ⊕ 빠른 탐색, 삽입, 삭제\n",
    "##### $ \\hspace{0.15cm} $ ⊖ 키 중복 불가\n",
    "##### $ \\hspace{0.15cm} $ ⊖ 기본적으로 순서 없음"
   ]
  },
  {
   "cell_type": "markdown",
   "id": "d10ea446",
   "metadata": {},
   "source": [
    "#### **(4) 적절한 자료 구조** :\n",
    "##### $ \\hspace{0.15cm} $ ① Hash Table\n",
    "##### $ \\hspace{0.15cm} $ ② Tree"
   ]
  },
  {
   "cell_type": "markdown",
   "id": "ccf94442",
   "metadata": {},
   "source": [
    "#### **(5) 파이썬 구현** : 예외처리 생략"
   ]
  },
  {
   "cell_type": "code",
   "execution_count": 6,
   "id": "2a75ede7",
   "metadata": {},
   "outputs": [],
   "source": [
    "class Map() :\n",
    "    def __init__(self) :\n",
    "        self.data = dict() \n",
    "    def __repr__(self) :\n",
    "        return str(self.data)\n",
    "    def get(self, key:str) :\n",
    "        return self.data[key]\n",
    "    def put(self, key:str, value) -> None :\n",
    "        self.data[key] = value\n",
    "    def remove(self, key:str) -> None :\n",
    "        del self.data[key]\n",
    "    def contains_key(self, key:str) -> bool :\n",
    "        return key in self.data"
   ]
  },
  {
   "cell_type": "markdown",
   "id": "73ea8399",
   "metadata": {},
   "source": [
    "<b></b>"
   ]
  }
 ],
 "metadata": {
  "kernelspec": {
   "display_name": "PYTCH",
   "language": "python",
   "name": "python3"
  },
  "language_info": {
   "codemirror_mode": {
    "name": "ipython",
    "version": 3
   },
   "file_extension": ".py",
   "mimetype": "text/x-python",
   "name": "python",
   "nbconvert_exporter": "python",
   "pygments_lexer": "ipython3",
   "version": "3.12.11"
  }
 },
 "nbformat": 4,
 "nbformat_minor": 5
}
