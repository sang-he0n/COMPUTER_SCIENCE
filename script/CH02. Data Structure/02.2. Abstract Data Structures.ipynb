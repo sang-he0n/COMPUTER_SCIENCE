{
 "cells": [
  {
   "cell_type": "markdown",
   "id": "e7e208d4",
   "metadata": {},
   "source": [
    "# CH02.2. **Abstract Data Structure**"
   ]
  },
  {
   "cell_type": "markdown",
   "id": "473bdb35",
   "metadata": {},
   "source": [
    "> ## **Stack**"
   ]
  },
  {
   "cell_type": "markdown",
   "id": "d6dd42fe",
   "metadata": {},
   "source": [
    "#### **(1) 정의** :"
   ]
  },
  {
   "cell_type": "markdown",
   "id": "1a1ea2fd",
   "metadata": {},
   "source": [
    "#### **(2) 특징** :"
   ]
  },
  {
   "cell_type": "markdown",
   "id": "fe8d2e63",
   "metadata": {},
   "source": [
    "#### **(3) 적절한 자료 구조** :\n",
    "##### $ \\hspace{0.15cm} $ ① Array\n",
    "##### $ \\hspace{0.15cm} $ ② Linked-List"
   ]
  },
  {
   "cell_type": "markdown",
   "id": "6609ced5",
   "metadata": {},
   "source": [
    "#### **(4) 파이썬 구현** :"
   ]
  },
  {
   "cell_type": "code",
   "execution_count": null,
   "id": "0adca216",
   "metadata": {},
   "outputs": [],
   "source": [
    "class Stack() :\n",
    "    def __init__(self) : \n",
    "        self.data = list()\n",
    "    def push(self, val:int) -> None :\n",
    "        self.data.append(val)   \n",
    "    def pop(self) -> int :\n",
    "        if self._is_empty() : \n",
    "            return -1\n",
    "        else :\n",
    "            return self.data.pop(-1)\n",
    "    def _len(self) -> int : \n",
    "        return len(self.data)\n",
    "    def _is_empty(self) -> bool : \n",
    "        if self._len() == 0 : \n",
    "            return True\n",
    "        else : \n",
    "            return False "
   ]
  },
  {
   "cell_type": "markdown",
   "id": "ba8638fb",
   "metadata": {},
   "source": [
    "<b></b>"
   ]
  },
  {
   "cell_type": "markdown",
   "id": "b46db7d9",
   "metadata": {},
   "source": [
    "> ## **Queue**"
   ]
  },
  {
   "cell_type": "markdown",
   "id": "9b5bbd39",
   "metadata": {},
   "source": [
    "#### **(1) 정의** :"
   ]
  },
  {
   "cell_type": "markdown",
   "id": "e918ebd2",
   "metadata": {},
   "source": [
    "#### **(2) 특징** :"
   ]
  },
  {
   "cell_type": "markdown",
   "id": "7af6d33b",
   "metadata": {},
   "source": [
    "#### **(3) 적절한 자료 구조** :\n",
    "##### $ \\hspace{0.15cm} $ ① Linked-List"
   ]
  },
  {
   "cell_type": "markdown",
   "id": "8d72b03c",
   "metadata": {},
   "source": [
    "#### **(4) 파이썬 구현** :"
   ]
  },
  {
   "cell_type": "code",
   "execution_count": null,
   "id": "6c606b77",
   "metadata": {},
   "outputs": [],
   "source": [
    "class Queue() :\n",
    "    def __init__(self) : \n",
    "        self.data = list()\n",
    "    def push(self, val:int) -> None :\n",
    "        self.data.append(val)\n",
    "    def pop(self) -> int :\n",
    "        if self._is_empty() : \n",
    "            return -1\n",
    "        else :\n",
    "            return self.data.pop(0)\n",
    "    def _len(self) -> int : \n",
    "        return len(self.data)\n",
    "    def _is_empty(self) -> bool : \n",
    "        if self._len() == 0 : \n",
    "            return True\n",
    "        else : \n",
    "            return False "
   ]
  },
  {
   "cell_type": "markdown",
   "id": "8e19c1aa",
   "metadata": {},
   "source": [
    "<b></b>"
   ]
  },
  {
   "cell_type": "markdown",
   "id": "664f1768",
   "metadata": {},
   "source": [
    "> ## **Priority Queue Queue**"
   ]
  },
  {
   "cell_type": "markdown",
   "id": "07e3f580",
   "metadata": {},
   "source": [
    "#### **(1) 정의** :"
   ]
  },
  {
   "cell_type": "markdown",
   "id": "2fb8acbb",
   "metadata": {},
   "source": [
    "#### **(2) 특징** :"
   ]
  },
  {
   "cell_type": "markdown",
   "id": "b1cd47a2",
   "metadata": {},
   "source": [
    "#### **(3) 적절한 자료 구조** :\n",
    "##### $ \\hspace{0.15cm} $ ① Heap"
   ]
  },
  {
   "cell_type": "markdown",
   "id": "ca85989b",
   "metadata": {},
   "source": [
    "<b></b>"
   ]
  },
  {
   "cell_type": "markdown",
   "id": "d7379e6a",
   "metadata": {},
   "source": [
    "> ## **Deque**"
   ]
  },
  {
   "cell_type": "markdown",
   "id": "02183b43",
   "metadata": {},
   "source": [
    "#### **(1) 정의** :"
   ]
  },
  {
   "cell_type": "markdown",
   "id": "26bce906",
   "metadata": {},
   "source": [
    "#### **(2) 특징** :"
   ]
  },
  {
   "cell_type": "markdown",
   "id": "6c8a3eae",
   "metadata": {},
   "source": [
    "#### **(3) 적절한 자료 구조** :\n",
    "##### $ \\hspace{0.15cm} $ ① Linked-List"
   ]
  },
  {
   "cell_type": "markdown",
   "id": "a7e5ffed",
   "metadata": {},
   "source": [
    "#### **(4) 파이썬 구현** :"
   ]
  },
  {
   "cell_type": "code",
   "execution_count": null,
   "id": "32e39355",
   "metadata": {},
   "outputs": [],
   "source": [
    "pass"
   ]
  },
  {
   "cell_type": "markdown",
   "id": "09534ea3",
   "metadata": {},
   "source": [
    "<b></b>"
   ]
  },
  {
   "cell_type": "markdown",
   "id": "1c76961c",
   "metadata": {},
   "source": [
    "> ## **Set**"
   ]
  },
  {
   "cell_type": "markdown",
   "id": "caba1e98",
   "metadata": {},
   "source": [
    "#### **(1) 정의** :"
   ]
  },
  {
   "cell_type": "markdown",
   "id": "f2926422",
   "metadata": {},
   "source": [
    "#### **(2) 특징** :"
   ]
  },
  {
   "cell_type": "markdown",
   "id": "702cfed7",
   "metadata": {},
   "source": [
    "#### **(3) 적절한 자료 구조** :\n",
    "##### $ \\hspace{0.15cm} $ ① Hash Table\n",
    "##### $ \\hspace{0.15cm} $ ② Tree"
   ]
  },
  {
   "cell_type": "markdown",
   "id": "07faef94",
   "metadata": {},
   "source": [
    "#### **(4) 파이썬 구현** :"
   ]
  },
  {
   "cell_type": "code",
   "execution_count": null,
   "id": "f07328d4",
   "metadata": {},
   "outputs": [],
   "source": [
    "pass"
   ]
  },
  {
   "cell_type": "markdown",
   "id": "d7fec0ad",
   "metadata": {},
   "source": [
    "<b></b>"
   ]
  },
  {
   "cell_type": "markdown",
   "id": "35ed11bf",
   "metadata": {},
   "source": [
    "> ## **Map**"
   ]
  },
  {
   "cell_type": "markdown",
   "id": "a52c4e69",
   "metadata": {},
   "source": [
    "#### **(1) 정의** :"
   ]
  },
  {
   "cell_type": "markdown",
   "id": "a4dc2306",
   "metadata": {},
   "source": [
    "#### **(2) 특징** :"
   ]
  },
  {
   "cell_type": "markdown",
   "id": "d10ea446",
   "metadata": {},
   "source": [
    "#### **(3) 적절한 자료 구조** :\n",
    "##### $ \\hspace{0.15cm} $ ① Hash Table\n",
    "##### $ \\hspace{0.15cm} $ ② Tree"
   ]
  },
  {
   "cell_type": "markdown",
   "id": "ccf94442",
   "metadata": {},
   "source": [
    "#### **(4) 파이썬 구현** :"
   ]
  },
  {
   "cell_type": "code",
   "execution_count": null,
   "id": "2a75ede7",
   "metadata": {},
   "outputs": [],
   "source": [
    "pass"
   ]
  },
  {
   "cell_type": "markdown",
   "id": "73ea8399",
   "metadata": {},
   "source": [
    "<b></b>"
   ]
  }
 ],
 "metadata": {
  "kernelspec": {
   "display_name": "PYTCH",
   "language": "python",
   "name": "python3"
  },
  "language_info": {
   "codemirror_mode": {
    "name": "ipython",
    "version": 3
   },
   "file_extension": ".py",
   "mimetype": "text/x-python",
   "name": "python",
   "nbconvert_exporter": "python",
   "pygments_lexer": "ipython3",
   "version": "3.12.11"
  }
 },
 "nbformat": 4,
 "nbformat_minor": 5
}
