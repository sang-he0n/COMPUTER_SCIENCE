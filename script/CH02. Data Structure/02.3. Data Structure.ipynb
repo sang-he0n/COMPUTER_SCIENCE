{
 "cells": [
  {
   "cell_type": "markdown",
   "id": "e7e208d4",
   "metadata": {},
   "source": [
    "# CH02.3. **Data Structure**"
   ]
  },
  {
   "cell_type": "markdown",
   "id": "e0294179",
   "metadata": {},
   "source": [
    "> ## **배열(Array)**"
   ]
  },
  {
   "cell_type": "markdown",
   "id": "3c58e58a",
   "metadata": {},
   "source": [
    "#### **(1) 정의** : 연속적인 메모리 공간에서 인덱스를 통해 데이터를 저장하는 자료구조"
   ]
  },
  {
   "cell_type": "markdown",
   "id": "66fddd1b",
   "metadata": {},
   "source": [
    "#### **(2) 종류** :\n",
    "##### $ \\hspace{0.15cm} $ ① 고정 길이 배열(Static Array) : 길이(크기)를 미리 선언한 배열\n",
    "##### $ \\hspace{0.15cm} $ ② 가변 길이 배열(Dynamic Array) : 길이를 가변적으로 조정할 수 있는 배열 (python의 `list()`)"
   ]
  },
  {
   "cell_type": "markdown",
   "id": "e3d829aa",
   "metadata": {},
   "source": [
    "#### **(3) 주요 연산** : \n",
    "|구분|시간복잡도(평균)|시간복잡도(최악)|비고|\n",
    "|-|-|-|-|\n",
    "|Access|$ O(1) $|$ O(1) $| 인덱스를 통해 즉시 접근 가능|\n",
    "|Search|$ O(N) $|$ O(N) $| 선형 탐색 필요 |\n",
    "|Insertion(끝)|$ O(1) $|$ O(1) $||\n",
    "|Insertion(중간)|$ O(N) $|$ O(N) $|연산 후 재배열 필요|\n",
    "|Deletion|$ O(N) $|$ O(N) $|연산 후 재배열 필요|"
   ]
  },
  {
   "cell_type": "markdown",
   "id": "cf7f00df",
   "metadata": {},
   "source": [
    "#### **(4) 특징** :\n",
    "##### $ \\hspace{0.15cm} $ ⊕ 구조가 단순하여 직관적\n",
    "##### $ \\hspace{0.15cm} $ ⊕ 빠른 인덱스 접근(조회) 가능\n",
    "##### $ \\hspace{0.15cm} $ ⊕ 메모리 공간이 연속적이라 캐시 적중률이 높음\n",
    "##### $ \\hspace{0.15cm} $ ⊖ 중간에 삽입/삭제하면 많은 비용 소요 (시간 복잡도 $ O(N) $ 필요)\n",
    "##### $ \\hspace{0.15cm} $ ⊖ (고정 길이 배열의 경우) 메모리 공간을 미리 할당하기에 낭비 가능성 존재 "
   ]
  },
  {
   "cell_type": "markdown",
   "id": "3678d626",
   "metadata": {},
   "source": [
    "#### **(5) 파이썬 구현** : "
   ]
  },
  {
   "cell_type": "code",
   "execution_count": null,
   "id": "1b548af1",
   "metadata": {},
   "outputs": [],
   "source": [
    "class Array :\n",
    "    def __init__(self):\n",
    "        self.capacity = 4               \n",
    "        self.size = 0                   \n",
    "        self.array = [None] * self.capacity\n",
    "    def __repr__(self) :\n",
    "        return \"[\" + \", \".join(str(self.array[i]) for i in range(self.size)) + \"]\"\n",
    "    def insert(self, data) :\n",
    "        if self.size == self.capacity:\n",
    "            self._resize()\n",
    "        self.array[self.size] = data\n",
    "        self.size += 1\n",
    "    def _resize(self) :\n",
    "        new_capacity = self.capacity * 2\n",
    "        new_array = [None] * new_capacity\n",
    "        for i in range(self.size) :\n",
    "            new_array[i] = self.array[i]\n",
    "        self.array = new_array\n",
    "        self.capacity = new_capacity"
   ]
  },
  {
   "cell_type": "markdown",
   "id": "73ea8399",
   "metadata": {},
   "source": [
    "<b></b>"
   ]
  },
  {
   "cell_type": "markdown",
   "id": "ca005624",
   "metadata": {},
   "source": [
    "> ## **Linked List**"
   ]
  },
  {
   "cell_type": "markdown",
   "id": "b8d36365",
   "metadata": {},
   "source": [
    "#### **(1) 정의** : 각 요소가 노드로 구성되고, 각 노드가 데이터와 다음 노드를 가리키는 포인터를 포함하는 선형 자료구조"
   ]
  },
  {
   "cell_type": "markdown",
   "id": "cdde0eca",
   "metadata": {},
   "source": [
    "#### **(2) 종류** :\n",
    "##### $ \\hspace{0.15cm} $ ① Singly Linked List: 단방향 연결\n",
    "##### $ \\hspace{0.15cm} $ ② Doubly Linked List: 노드 별로 양방향 연결\n",
    "##### $ \\hspace{0.15cm} $ ③ Circular Linked List: 마지막 노드가 첫 노드를 가리키는 연결 리스트"
   ]
  },
  {
   "cell_type": "markdown",
   "id": "3bca7a38",
   "metadata": {},
   "source": [
    "#### **(2) 주요 연산** : \n",
    "|구분|시간복잡도(평균)|시간복잡도(최악)|비고|\n",
    "|-|-|-|-|\n",
    "|Access|$ O(N) $|$ O(N) $||\n",
    "|Search|$ O(N) $|$ O(N) $||\n",
    "|Insertion(앞)|$ O(1) $|$ O(1) $||\n",
    "|Insertion(중간)|$ O(N) $|$ O(N) $||\n",
    "|Deletion|$ O(1) $|$ O(N) $||"
   ]
  },
  {
   "cell_type": "markdown",
   "id": "4425670d",
   "metadata": {},
   "source": [
    "#### **(4) 특징** :\n",
    "##### $ \\hspace{0.15cm} $ ⊕ 동적으로 메모리 할당하기에 낭비 적음\n",
    "##### $ \\hspace{0.15cm} $ ⊕ 조각난 메모리에도 삽입 가능해 메모리 재사용 가능\n",
    "##### $ \\hspace{0.15cm} $ ⊖ 인덱스로 접근 불가하기에 순차 탐색 필요\n",
    "##### $ \\hspace{0.15cm} $ ⊖ 포인터 공간 때문에 메모리 사용량 큼\n",
    "##### $ \\hspace{0.15cm} $ ⊖ 노드가 메모리 공간에 흩어져 있어서 캐시 적중률이 낮음"
   ]
  },
  {
   "cell_type": "markdown",
   "id": "54188946",
   "metadata": {},
   "source": [
    "#### **(5) 파이썬 구현** : "
   ]
  },
  {
   "cell_type": "code",
   "execution_count": null,
   "id": "08dd8998",
   "metadata": {},
   "outputs": [],
   "source": [
    "class Node :\n",
    "    def __init__(self, data) :\n",
    "        self.data = data\n",
    "        self.next = None\n",
    "\n",
    "class LinkedList :\n",
    "    def __init__(self) :\n",
    "        self.head = None\n",
    "    def append(self, data) :\n",
    "        new_node = Node(data)\n",
    "        if self.head == None :\n",
    "            self.head = new_node\n",
    "        else:\n",
    "            curr = self.head\n",
    "            while curr.next != None :\n",
    "                curr = curr.next\n",
    "            curr.next = new_node\n",
    "    def search(self, target) :\n",
    "        current = self.head\n",
    "        while current != None :\n",
    "            if current.data == target:\n",
    "                return True\n",
    "            current = current.next\n",
    "        return False"
   ]
  },
  {
   "cell_type": "markdown",
   "id": "09cd91a7",
   "metadata": {},
   "source": [
    "<b></b>"
   ]
  },
  {
   "cell_type": "markdown",
   "id": "50c86e24",
   "metadata": {},
   "source": [
    "> ## **트리(Tree)**"
   ]
  },
  {
   "cell_type": "markdown",
   "id": "981cdfaf",
   "metadata": {},
   "source": [
    "#### **(1) 정의** : 계층적 구조로써 루트 노드부터 하위 노드로 분기되는 자료구조"
   ]
  },
  {
   "cell_type": "markdown",
   "id": "5ec3ca4f",
   "metadata": {},
   "source": [
    "#### **(2) 종류** :\n",
    "##### $ \\hspace{0.15cm} $ ① 이진 트리(Binary Tree) : 각 노드가 최대 자식 노드를 $ 2 $개로 갖는 트리\n",
    "##### $ \\hspace{0.15cm} $ ② 이진 탐색 트리(Binary Search Tree) : 왼쪽 서브트리 < 현재 노드 < 우측 서브트리 조건을 만족하는 트리\n",
    "##### $ \\hspace{0.15cm} $ ③ 힙(Heap)"
   ]
  },
  {
   "cell_type": "markdown",
   "id": "bbc5695f",
   "metadata": {},
   "source": [
    "#### **(3) 주요 연산** : Binary Search Tree 기준\n",
    "|구분|시간복잡도(평균)|시간복잡도(최악)|비고|\n",
    "|-|-|-|-|\n",
    "|Access|$ O(\\log{}(N)) $|$ O(N) $||\n",
    "|Search|$ O(\\log{}(N)) $|$ O(N) $||\n",
    "|Insertion|$ O(\\log{}(N)) $|$ O(N) $||\n",
    "|Deletion|$ O(\\log{}(N)) $|$ O(N) $||"
   ]
  },
  {
   "cell_type": "markdown",
   "id": "5fb809b5",
   "metadata": {},
   "source": [
    "##### **(`PLUS`)** 최악의 경우는 skew tree를 가정함"
   ]
  },
  {
   "cell_type": "markdown",
   "id": "dfbf63bd",
   "metadata": {},
   "source": [
    "#### **(4) 특징** :\n",
    "##### $ \\hspace{0.15cm} $ ⊕ 균형 트리의 경우 빠른 탐색/삽입/삭제 가능\n",
    "##### $ \\hspace{0.15cm} $ ⊖ 불균형 트리의 경우 성능 저하"
   ]
  },
  {
   "cell_type": "markdown",
   "id": "2bfe78a7",
   "metadata": {},
   "source": [
    "#### **(5) 파이썬 구현** : "
   ]
  },
  {
   "cell_type": "code",
   "execution_count": null,
   "id": "ac6541f3",
   "metadata": {},
   "outputs": [],
   "source": [
    "class TreeNode:\n",
    "    def __init__(self, data) :\n",
    "        self.data = data\n",
    "        self.children = []  \n",
    "\n",
    "    def add_child(self, node) :\n",
    "        self.children.append(node)"
   ]
  },
  {
   "cell_type": "markdown",
   "id": "9330397a",
   "metadata": {},
   "source": [
    "<b></b>"
   ]
  },
  {
   "cell_type": "markdown",
   "id": "c7e9bf96",
   "metadata": {},
   "source": [
    "> ## **Heap**"
   ]
  },
  {
   "cell_type": "markdown",
   "id": "1a8a3552",
   "metadata": {},
   "source": [
    "#### **(1) 정의** : 완전 이진 트리 형태의 자료구조로 루트 노드가 최대값 또는 최소값을 유지함"
   ]
  },
  {
   "cell_type": "markdown",
   "id": "633aee02",
   "metadata": {},
   "source": [
    "#### **(2) 종류** :\n",
    "##### $ \\hspace{0.15cm} $ ① Min-Heap : 부모 노드 $ \\geq{} $ 자식 노드\n",
    "##### $ \\hspace{0.15cm} $ ② Max-Heap : 부모 노드 $ \\leq{} $ 자식 노드"
   ]
  },
  {
   "cell_type": "markdown",
   "id": "2ffcf402",
   "metadata": {},
   "source": [
    "#### **(3) 주요 연산** : \n",
    "|구분|시간복잡도(평균)|시간복잡도(최악)|비고|\n",
    "|-|-|-|-|\n",
    "|Access|$ O(N) $|$ O(N) $|최소값 혹은 최댓값 접근|\n",
    "|Search|❌|❌||\n",
    "|Insertion|$ O(\\log{}(N)) $|$ O(\\log{}(N)) $||\n",
    "|Deletion|$ O(\\log{}(N)) $|$ O(\\log{}(N)) $||"
   ]
  },
  {
   "cell_type": "markdown",
   "id": "0d9de3a8",
   "metadata": {},
   "source": [
    "#### **(4) 특징** :\n",
    "##### $ \\hspace{0.15cm} $ ⊕ 최댓값/최솟값 빠르게 접근\n",
    "##### $ \\hspace{0.15cm} $ ⊕ 정렬 알고리즘에 활용 (Heap Sort)\n",
    "##### $ \\hspace{0.15cm} $ ⊖ 중간 값 접근 느림\n",
    "##### $ \\hspace{0.15cm} $ ⊖ 선형 탐색 비효율"
   ]
  },
  {
   "cell_type": "markdown",
   "id": "4df4ba9d",
   "metadata": {},
   "source": [
    "#### **(5) 파이썬 구현** : "
   ]
  },
  {
   "cell_type": "code",
   "execution_count": null,
   "id": "4281c197",
   "metadata": {},
   "outputs": [],
   "source": [
    "pass"
   ]
  },
  {
   "cell_type": "markdown",
   "id": "2cd37848",
   "metadata": {},
   "source": [
    "<b></b>"
   ]
  },
  {
   "cell_type": "markdown",
   "id": "785b0563",
   "metadata": {},
   "source": [
    "> ## **Hash Table**"
   ]
  },
  {
   "cell_type": "markdown",
   "id": "f025f796",
   "metadata": {},
   "source": [
    "#### **(1) 정의** : 키-값(key-value) 형태로 데이터를 저장하며, 해시 함수로 키를 인덱스로 변환하는 자료 구조"
   ]
  },
  {
   "cell_type": "markdown",
   "id": "1cf37459",
   "metadata": {},
   "source": [
    "#### **(2) 종류** :\n",
    "##### $ \\hspace{0.15cm} $ ① \n",
    "##### $ \\hspace{0.15cm} $ ② "
   ]
  },
  {
   "cell_type": "markdown",
   "id": "5429fefa",
   "metadata": {},
   "source": [
    "#### **(3) 주요 연산** : \n",
    "|구분|시간복잡도(평균)|시간복잡도(최악)|비고|\n",
    "|-|-|-|-|\n",
    "|Search|$ O(1) $|$ O(N) $|키 기반 탐색|\n",
    "|Insertion|$ O(1) $|$ O(N) $||\n",
    "|Deletion|$ O(1) $|$ O(N) $||"
   ]
  },
  {
   "cell_type": "markdown",
   "id": "2694140b",
   "metadata": {},
   "source": [
    "##### **(`PLUS`)** 최악의 경우는 해시 충돌이 발생했을 때를 가정함"
   ]
  },
  {
   "cell_type": "markdown",
   "id": "877b8d83",
   "metadata": {},
   "source": [
    "#### **(4) 특징** :\n",
    "##### $ \\hspace{0.15cm} $ ⊕ 빠른 탐색/삽입/삭제\n",
    "##### $ \\hspace{0.15cm} $ ⊕ 키 기반 데이터 접근\n",
    "##### $ \\hspace{0.15cm} $ ⊖ 해시 충돌 발생할 시 큰 비용 소요\n",
    "##### $ \\hspace{0.15cm} $ ⊖ 정렬 불가"
   ]
  },
  {
   "cell_type": "markdown",
   "id": "dc3f77e8",
   "metadata": {},
   "source": [
    "#### **(5) 파이썬 구현** : "
   ]
  },
  {
   "cell_type": "code",
   "execution_count": null,
   "id": "960c30e8",
   "metadata": {},
   "outputs": [],
   "source": [
    "pass"
   ]
  },
  {
   "cell_type": "markdown",
   "id": "45c361a3",
   "metadata": {},
   "source": [
    "<b></b>"
   ]
  },
  {
   "cell_type": "markdown",
   "id": "ab2b6435",
   "metadata": {},
   "source": [
    "> ## **Graph**"
   ]
  },
  {
   "cell_type": "markdown",
   "id": "403d639a",
   "metadata": {},
   "source": [
    "#### **(1) 정의** : 정점(vertex)과 간선(edge)으로 구성된 구조, 탐색(search)이 주요 연산"
   ]
  },
  {
   "cell_type": "markdown",
   "id": "eed4ceb0",
   "metadata": {},
   "source": [
    "#### **(2) 주요 연산** : \n",
    "|구분|시간복잡도(평균)|시간복잡도(최악)|비고|\n",
    "|-|-|-|-|\n",
    "|Access|❌|❌||\n",
    "|Search||||\n",
    "|Insertion||||\n",
    "|Deletion||||"
   ]
  },
  {
   "cell_type": "markdown",
   "id": "0eafd3f9",
   "metadata": {},
   "source": [
    "#### **(4) 특징** :\n",
    "##### $ \\hspace{0.15cm} $ ⊕ \n",
    "##### $ \\hspace{0.15cm} $ ⊕ \n",
    "##### $ \\hspace{0.15cm} $ ⊖ \n",
    "##### $ \\hspace{0.15cm} $ ⊖ "
   ]
  },
  {
   "cell_type": "markdown",
   "id": "43572c58",
   "metadata": {},
   "source": [
    "#### **(5) 파이썬 구현** : "
   ]
  }
 ],
 "metadata": {
  "kernelspec": {
   "display_name": "PYTCH",
   "language": "python",
   "name": "python3"
  },
  "language_info": {
   "codemirror_mode": {
    "name": "ipython",
    "version": 3
   },
   "file_extension": ".py",
   "mimetype": "text/x-python",
   "name": "python",
   "nbconvert_exporter": "python",
   "pygments_lexer": "ipython3",
   "version": "3.12.11"
  }
 },
 "nbformat": 4,
 "nbformat_minor": 5
}
